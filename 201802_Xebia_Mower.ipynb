{
 "cells": [
  {
   "cell_type": "code",
   "execution_count": 1,
   "metadata": {},
   "outputs": [],
   "source": [
    "import sys \n",
    "\n",
    "sys.path.append(\"./xebia_mower-0.1-py2.7.egg\")"
   ]
  },
  {
   "cell_type": "code",
   "execution_count": 2,
   "metadata": {},
   "outputs": [],
   "source": [
    "from __future__ import division\n",
    "import pandas as pd\n",
    "import seaborn\n",
    "import statsmodels.formula.api as smf\n",
    "from sklearn.model_selection import train_test_split\n",
    "import numpy as np\n",
    "\n",
    "#Personal functions created for the project\n",
    "from utils.clean_dataframe import DataFrameCleaner\n",
    "from utils.prepare_features import FeaturePreparation\n",
    "from utils.metrics import Metrics\n",
    "\n",
    "seaborn.set_style(\"white\")"
   ]
  },
  {
   "cell_type": "markdown",
   "metadata": {},
   "source": [
    "# Data Analysis"
   ]
  },
  {
   "cell_type": "code",
   "execution_count": 3,
   "metadata": {},
   "outputs": [],
   "source": [
    "dataframe_cleaner = DataFrameCleaner()\n",
    "prepare_features = FeaturePreparation()"
   ]
  },
  {
   "cell_type": "code",
   "execution_count": 4,
   "metadata": {},
   "outputs": [
    {
     "data": {
      "text/plain": [
       "1399"
      ]
     },
     "execution_count": 4,
     "metadata": {},
     "output_type": "execute_result"
    }
   ],
   "source": [
    "df = pd.read_csv(\"./Data/mower_market_snapshot.csv\", sep=\";\")\n",
    "validation_set = pd.read_csv(\"./Data/submission_set.csv\", sep=\";\")\n",
    "len(df)"
   ]
  },
  {
   "cell_type": "markdown",
   "metadata": {},
   "source": [
    "We first compare types of columns in the dataset, only to notice that production costs should be float64 but are strings"
   ]
  },
  {
   "cell_type": "code",
   "execution_count": 305,
   "metadata": {},
   "outputs": [
    {
     "data": {
      "text/plain": [
       "capacity          float64\n",
       "failure_rate      float64\n",
       "id                  int64\n",
       "margin            float64\n",
       "price             float64\n",
       "prod_cost          object\n",
       "product_type       object\n",
       "quality            object\n",
       "warranty           object\n",
       "market_share      float64\n",
       "attractiveness    float64\n",
       "dtype: object"
      ]
     },
     "execution_count": 305,
     "metadata": {},
     "output_type": "execute_result"
    }
   ],
   "source": [
    "df.dtypes"
   ]
  },
  {
   "cell_type": "code",
   "execution_count": 306,
   "metadata": {},
   "outputs": [
    {
     "data": {
      "text/plain": [
       "capacity        float64\n",
       "failure_rate    float64\n",
       "id                int64\n",
       "margin          float64\n",
       "price           float64\n",
       "prod_cost       float64\n",
       "product_type     object\n",
       "quality          object\n",
       "warranty         object\n",
       "dtype: object"
      ]
     },
     "execution_count": 306,
     "metadata": {},
     "output_type": "execute_result"
    }
   ],
   "source": [
    "validation_set.dtypes"
   ]
  },
  {
   "cell_type": "code",
   "execution_count": 307,
   "metadata": {},
   "outputs": [
    {
     "data": {
      "text/plain": [
       "0.009292351679771264"
      ]
     },
     "execution_count": 307,
     "metadata": {},
     "output_type": "execute_result"
    }
   ],
   "source": [
    "#How many values of prod_cost are string ?\n",
    "sum(df[\"prod_cost\"] == \"unknown\")/len(df)"
   ]
  },
  {
   "cell_type": "markdown",
   "metadata": {},
   "source": [
    "### We decide to replace unknown values with zeros."
   ]
  },
  {
   "cell_type": "code",
   "execution_count": 5,
   "metadata": {},
   "outputs": [],
   "source": [
    "input_value = 0.\n",
    "\n",
    "df[\"prod_cost\"] = df[\"prod_cost\"].apply(lambda s: float(s) if s != \"unknown\" else input_value)"
   ]
  },
  {
   "cell_type": "markdown",
   "metadata": {},
   "source": [
    "Let's look at basic statistics for our dataset in order to determine if nothing is out of the ordinary."
   ]
  },
  {
   "cell_type": "code",
   "execution_count": 49,
   "metadata": {
    "scrolled": true
   },
   "outputs": [
    {
     "data": {
      "text/html": [
       "<div>\n",
       "<style scoped>\n",
       "    .dataframe tbody tr th:only-of-type {\n",
       "        vertical-align: middle;\n",
       "    }\n",
       "\n",
       "    .dataframe tbody tr th {\n",
       "        vertical-align: top;\n",
       "    }\n",
       "\n",
       "    .dataframe thead th {\n",
       "        text-align: right;\n",
       "    }\n",
       "</style>\n",
       "<table border=\"1\" class=\"dataframe\">\n",
       "  <thead>\n",
       "    <tr style=\"text-align: right;\">\n",
       "      <th></th>\n",
       "      <th>capacity</th>\n",
       "      <th>failure_rate</th>\n",
       "      <th>id</th>\n",
       "      <th>margin</th>\n",
       "      <th>price</th>\n",
       "      <th>prod_cost</th>\n",
       "      <th>attractiveness</th>\n",
       "    </tr>\n",
       "  </thead>\n",
       "  <tbody>\n",
       "    <tr>\n",
       "      <th>count</th>\n",
       "      <td>1399.000000</td>\n",
       "      <td>1399.000000</td>\n",
       "      <td>1399.000000</td>\n",
       "      <td>1399.000000</td>\n",
       "      <td>1399.000000</td>\n",
       "      <td>1381.000000</td>\n",
       "      <td>1399.000000</td>\n",
       "    </tr>\n",
       "    <tr>\n",
       "      <th>mean</th>\n",
       "      <td>47.663266</td>\n",
       "      <td>0.166448</td>\n",
       "      <td>18958.000000</td>\n",
       "      <td>186.262609</td>\n",
       "      <td>260.075165</td>\n",
       "      <td>54.912410</td>\n",
       "      <td>0.636507</td>\n",
       "    </tr>\n",
       "    <tr>\n",
       "      <th>std</th>\n",
       "      <td>19.840501</td>\n",
       "      <td>0.073605</td>\n",
       "      <td>404.000825</td>\n",
       "      <td>191.011102</td>\n",
       "      <td>259.949127</td>\n",
       "      <td>61.418106</td>\n",
       "      <td>0.124016</td>\n",
       "    </tr>\n",
       "    <tr>\n",
       "      <th>min</th>\n",
       "      <td>0.013884</td>\n",
       "      <td>0.028906</td>\n",
       "      <td>18259.000000</td>\n",
       "      <td>52.943989</td>\n",
       "      <td>62.162200</td>\n",
       "      <td>-64.000000</td>\n",
       "      <td>0.297384</td>\n",
       "    </tr>\n",
       "    <tr>\n",
       "      <th>25%</th>\n",
       "      <td>35.853890</td>\n",
       "      <td>0.095678</td>\n",
       "      <td>18608.500000</td>\n",
       "      <td>62.247602</td>\n",
       "      <td>73.379425</td>\n",
       "      <td>10.644263</td>\n",
       "      <td>0.549369</td>\n",
       "    </tr>\n",
       "    <tr>\n",
       "      <th>50%</th>\n",
       "      <td>50.309242</td>\n",
       "      <td>0.199796</td>\n",
       "      <td>18958.000000</td>\n",
       "      <td>66.299672</td>\n",
       "      <td>78.439753</td>\n",
       "      <td>12.104509</td>\n",
       "      <td>0.641351</td>\n",
       "    </tr>\n",
       "    <tr>\n",
       "      <th>75%</th>\n",
       "      <td>61.905015</td>\n",
       "      <td>0.228011</td>\n",
       "      <td>19307.500000</td>\n",
       "      <td>265.370973</td>\n",
       "      <td>384.265263</td>\n",
       "      <td>113.496210</td>\n",
       "      <td>0.726746</td>\n",
       "    </tr>\n",
       "    <tr>\n",
       "      <th>max</th>\n",
       "      <td>104.614865</td>\n",
       "      <td>0.302465</td>\n",
       "      <td>19657.000000</td>\n",
       "      <td>790.012898</td>\n",
       "      <td>964.973926</td>\n",
       "      <td>210.984941</td>\n",
       "      <td>0.952877</td>\n",
       "    </tr>\n",
       "  </tbody>\n",
       "</table>\n",
       "</div>"
      ],
      "text/plain": [
       "          capacity  failure_rate            id       margin        price  \\\n",
       "count  1399.000000   1399.000000   1399.000000  1399.000000  1399.000000   \n",
       "mean     47.663266      0.166448  18958.000000   186.262609   260.075165   \n",
       "std      19.840501      0.073605    404.000825   191.011102   259.949127   \n",
       "min       0.013884      0.028906  18259.000000    52.943989    62.162200   \n",
       "25%      35.853890      0.095678  18608.500000    62.247602    73.379425   \n",
       "50%      50.309242      0.199796  18958.000000    66.299672    78.439753   \n",
       "75%      61.905015      0.228011  19307.500000   265.370973   384.265263   \n",
       "max     104.614865      0.302465  19657.000000   790.012898   964.973926   \n",
       "\n",
       "         prod_cost  attractiveness  \n",
       "count  1381.000000     1399.000000  \n",
       "mean     54.912410        0.636507  \n",
       "std      61.418106        0.124016  \n",
       "min     -64.000000        0.297384  \n",
       "25%      10.644263        0.549369  \n",
       "50%      12.104509        0.641351  \n",
       "75%     113.496210        0.726746  \n",
       "max     210.984941        0.952877  "
      ]
     },
     "execution_count": 49,
     "metadata": {},
     "output_type": "execute_result"
    }
   ],
   "source": [
    "df.describe()"
   ]
  },
  {
   "cell_type": "markdown",
   "metadata": {},
   "source": [
    "There are some negative production costs, but nothing else seems out of the ordinary. Margin is a proportion of price (if we accept the economic definition), are margins always less than prices ?"
   ]
  },
  {
   "cell_type": "code",
   "execution_count": 48,
   "metadata": {},
   "outputs": [
    {
     "data": {
      "text/html": [
       "<div>\n",
       "<style scoped>\n",
       "    .dataframe tbody tr th:only-of-type {\n",
       "        vertical-align: middle;\n",
       "    }\n",
       "\n",
       "    .dataframe tbody tr th {\n",
       "        vertical-align: top;\n",
       "    }\n",
       "\n",
       "    .dataframe thead th {\n",
       "        text-align: right;\n",
       "    }\n",
       "</style>\n",
       "<table border=\"1\" class=\"dataframe\">\n",
       "  <thead>\n",
       "    <tr style=\"text-align: right;\">\n",
       "      <th></th>\n",
       "      <th>capacity</th>\n",
       "      <th>failure_rate</th>\n",
       "      <th>id</th>\n",
       "      <th>margin</th>\n",
       "      <th>price</th>\n",
       "      <th>prod_cost</th>\n",
       "      <th>quality</th>\n",
       "      <th>warranty</th>\n",
       "    </tr>\n",
       "  </thead>\n",
       "  <tbody>\n",
       "  </tbody>\n",
       "</table>\n",
       "</div>"
      ],
      "text/plain": [
       "Empty DataFrame\n",
       "Columns: [capacity, failure_rate, id, margin, price, prod_cost, quality, warranty]\n",
       "Index: []"
      ]
     },
     "execution_count": 48,
     "metadata": {},
     "output_type": "execute_result"
    }
   ],
   "source": [
    "natural_prices = (validation_set[\"price\"]-validation_set[\"margin\"] >= 0)\n",
    "\n",
    "validation_set[~natural_prices]"
   ]
  },
  {
   "cell_type": "code",
   "execution_count": 6,
   "metadata": {
    "scrolled": true
   },
   "outputs": [
    {
     "data": {
      "text/html": [
       "<div>\n",
       "<style scoped>\n",
       "    .dataframe tbody tr th:only-of-type {\n",
       "        vertical-align: middle;\n",
       "    }\n",
       "\n",
       "    .dataframe tbody tr th {\n",
       "        vertical-align: top;\n",
       "    }\n",
       "\n",
       "    .dataframe thead th {\n",
       "        text-align: right;\n",
       "    }\n",
       "</style>\n",
       "<table border=\"1\" class=\"dataframe\">\n",
       "  <thead>\n",
       "    <tr style=\"text-align: right;\">\n",
       "      <th></th>\n",
       "      <th>capacity</th>\n",
       "      <th>failure_rate</th>\n",
       "      <th>id</th>\n",
       "      <th>margin</th>\n",
       "      <th>price</th>\n",
       "      <th>prod_cost</th>\n",
       "      <th>product_type</th>\n",
       "      <th>quality</th>\n",
       "      <th>warranty</th>\n",
       "      <th>market_share</th>\n",
       "      <th>attractiveness</th>\n",
       "    </tr>\n",
       "  </thead>\n",
       "  <tbody>\n",
       "    <tr>\n",
       "      <th>47</th>\n",
       "      <td>25.136228</td>\n",
       "      <td>0.044026</td>\n",
       "      <td>19549</td>\n",
       "      <td>618.616295</td>\n",
       "      <td>69.359766</td>\n",
       "      <td>0.0</td>\n",
       "      <td>auto-portee</td>\n",
       "      <td>Medium</td>\n",
       "      <td>3ans.</td>\n",
       "      <td>0.008874</td>\n",
       "      <td>0.907834</td>\n",
       "    </tr>\n",
       "    <tr>\n",
       "      <th>62</th>\n",
       "      <td>15.627623</td>\n",
       "      <td>0.041714</td>\n",
       "      <td>19448</td>\n",
       "      <td>657.152001</td>\n",
       "      <td>359.675157</td>\n",
       "      <td>-64.0</td>\n",
       "      <td>auto-portee</td>\n",
       "      <td>Low</td>\n",
       "      <td>3 ans</td>\n",
       "      <td>0.006839</td>\n",
       "      <td>0.699600</td>\n",
       "    </tr>\n",
       "    <tr>\n",
       "      <th>64</th>\n",
       "      <td>18.669448</td>\n",
       "      <td>0.036297</td>\n",
       "      <td>19368</td>\n",
       "      <td>738.279214</td>\n",
       "      <td>424.738557</td>\n",
       "      <td>0.0</td>\n",
       "      <td>auto-portee</td>\n",
       "      <td>Medium</td>\n",
       "      <td>3_ans.</td>\n",
       "      <td>0.007104</td>\n",
       "      <td>0.726770</td>\n",
       "    </tr>\n",
       "    <tr>\n",
       "      <th>100</th>\n",
       "      <td>28.029561</td>\n",
       "      <td>0.040033</td>\n",
       "      <td>18993</td>\n",
       "      <td>746.108663</td>\n",
       "      <td>350.216029</td>\n",
       "      <td>0.0</td>\n",
       "      <td>auto-portee</td>\n",
       "      <td>Hight</td>\n",
       "      <td>3anss</td>\n",
       "      <td>0.007847</td>\n",
       "      <td>0.802719</td>\n",
       "    </tr>\n",
       "    <tr>\n",
       "      <th>103</th>\n",
       "      <td>18.889544</td>\n",
       "      <td>0.036835</td>\n",
       "      <td>19194</td>\n",
       "      <td>661.693700</td>\n",
       "      <td>77.249896</td>\n",
       "      <td>-64.0</td>\n",
       "      <td>auto-portee</td>\n",
       "      <td>Low</td>\n",
       "      <td>3 ans</td>\n",
       "      <td>0.006655</td>\n",
       "      <td>0.680852</td>\n",
       "    </tr>\n",
       "    <tr>\n",
       "      <th>107</th>\n",
       "      <td>31.019904</td>\n",
       "      <td>0.038149</td>\n",
       "      <td>19522</td>\n",
       "      <td>658.116184</td>\n",
       "      <td>411.087712</td>\n",
       "      <td>NaN</td>\n",
       "      <td>auto-portee</td>\n",
       "      <td>Low</td>\n",
       "      <td>3 ans.</td>\n",
       "      <td>0.007505</td>\n",
       "      <td>0.767814</td>\n",
       "    </tr>\n",
       "    <tr>\n",
       "      <th>126</th>\n",
       "      <td>12.417808</td>\n",
       "      <td>0.037797</td>\n",
       "      <td>19638</td>\n",
       "      <td>672.153234</td>\n",
       "      <td>74.156037</td>\n",
       "      <td>0.0</td>\n",
       "      <td>auto-portee</td>\n",
       "      <td>Hight</td>\n",
       "      <td>3_ans</td>\n",
       "      <td>0.007923</td>\n",
       "      <td>0.810591</td>\n",
       "    </tr>\n",
       "    <tr>\n",
       "      <th>135</th>\n",
       "      <td>23.340049</td>\n",
       "      <td>0.039023</td>\n",
       "      <td>19596</td>\n",
       "      <td>726.196516</td>\n",
       "      <td>396.773981</td>\n",
       "      <td>NaN</td>\n",
       "      <td>auto-portee</td>\n",
       "      <td>Medium</td>\n",
       "      <td>3ans</td>\n",
       "      <td>0.006937</td>\n",
       "      <td>0.709674</td>\n",
       "    </tr>\n",
       "    <tr>\n",
       "      <th>166</th>\n",
       "      <td>39.703060</td>\n",
       "      <td>0.073723</td>\n",
       "      <td>18870</td>\n",
       "      <td>248.010000</td>\n",
       "      <td>70.271198</td>\n",
       "      <td>0.0</td>\n",
       "      <td>electrique</td>\n",
       "      <td>Low</td>\n",
       "      <td>2 ans</td>\n",
       "      <td>0.002607</td>\n",
       "      <td>0.679325</td>\n",
       "    </tr>\n",
       "    <tr>\n",
       "      <th>170</th>\n",
       "      <td>34.857361</td>\n",
       "      <td>0.114097</td>\n",
       "      <td>18964</td>\n",
       "      <td>241.552664</td>\n",
       "      <td>72.970497</td>\n",
       "      <td>NaN</td>\n",
       "      <td>electrique</td>\n",
       "      <td>Low</td>\n",
       "      <td>2 anss</td>\n",
       "      <td>0.003039</td>\n",
       "      <td>0.791921</td>\n",
       "    </tr>\n",
       "    <tr>\n",
       "      <th>185</th>\n",
       "      <td>35.101579</td>\n",
       "      <td>0.094531</td>\n",
       "      <td>18486</td>\n",
       "      <td>264.497255</td>\n",
       "      <td>80.768167</td>\n",
       "      <td>-64.0</td>\n",
       "      <td>electrique</td>\n",
       "      <td>Low</td>\n",
       "      <td>2_ans.</td>\n",
       "      <td>0.002893</td>\n",
       "      <td>0.753937</td>\n",
       "    </tr>\n",
       "    <tr>\n",
       "      <th>224</th>\n",
       "      <td>38.004822</td>\n",
       "      <td>0.088918</td>\n",
       "      <td>18523</td>\n",
       "      <td>255.289862</td>\n",
       "      <td>75.161299</td>\n",
       "      <td>0.0</td>\n",
       "      <td>electrique</td>\n",
       "      <td>Low</td>\n",
       "      <td>2_anss</td>\n",
       "      <td>0.002752</td>\n",
       "      <td>0.717166</td>\n",
       "    </tr>\n",
       "    <tr>\n",
       "      <th>331</th>\n",
       "      <td>35.137522</td>\n",
       "      <td>0.093361</td>\n",
       "      <td>19251</td>\n",
       "      <td>262.668491</td>\n",
       "      <td>77.213051</td>\n",
       "      <td>NaN</td>\n",
       "      <td>electrique</td>\n",
       "      <td>Low</td>\n",
       "      <td>2_ans.</td>\n",
       "      <td>0.002158</td>\n",
       "      <td>0.562313</td>\n",
       "    </tr>\n",
       "    <tr>\n",
       "      <th>471</th>\n",
       "      <td>44.813757</td>\n",
       "      <td>0.102862</td>\n",
       "      <td>18379</td>\n",
       "      <td>259.776821</td>\n",
       "      <td>72.035083</td>\n",
       "      <td>NaN</td>\n",
       "      <td>electrique</td>\n",
       "      <td>Medium</td>\n",
       "      <td>2 ans</td>\n",
       "      <td>0.002886</td>\n",
       "      <td>0.751908</td>\n",
       "    </tr>\n",
       "    <tr>\n",
       "      <th>479</th>\n",
       "      <td>36.259976</td>\n",
       "      <td>0.105738</td>\n",
       "      <td>18620</td>\n",
       "      <td>288.507312</td>\n",
       "      <td>74.897367</td>\n",
       "      <td>0.0</td>\n",
       "      <td>electrique</td>\n",
       "      <td>Low</td>\n",
       "      <td>2 ans.</td>\n",
       "      <td>0.001733</td>\n",
       "      <td>0.451514</td>\n",
       "    </tr>\n",
       "    <tr>\n",
       "      <th>525</th>\n",
       "      <td>28.149706</td>\n",
       "      <td>0.091212</td>\n",
       "      <td>19204</td>\n",
       "      <td>253.637540</td>\n",
       "      <td>78.051216</td>\n",
       "      <td>-64.0</td>\n",
       "      <td>electrique</td>\n",
       "      <td>Low</td>\n",
       "      <td>2_ans</td>\n",
       "      <td>0.002763</td>\n",
       "      <td>0.719915</td>\n",
       "    </tr>\n",
       "    <tr>\n",
       "      <th>535</th>\n",
       "      <td>43.410781</td>\n",
       "      <td>0.089094</td>\n",
       "      <td>19576</td>\n",
       "      <td>286.579692</td>\n",
       "      <td>62.162200</td>\n",
       "      <td>0.0</td>\n",
       "      <td>electrique</td>\n",
       "      <td>Low</td>\n",
       "      <td>2 anss</td>\n",
       "      <td>0.002389</td>\n",
       "      <td>0.622614</td>\n",
       "    </tr>\n",
       "  </tbody>\n",
       "</table>\n",
       "</div>"
      ],
      "text/plain": [
       "      capacity  failure_rate     id      margin       price  prod_cost  \\\n",
       "47   25.136228      0.044026  19549  618.616295   69.359766        0.0   \n",
       "62   15.627623      0.041714  19448  657.152001  359.675157      -64.0   \n",
       "64   18.669448      0.036297  19368  738.279214  424.738557        0.0   \n",
       "100  28.029561      0.040033  18993  746.108663  350.216029        0.0   \n",
       "103  18.889544      0.036835  19194  661.693700   77.249896      -64.0   \n",
       "107  31.019904      0.038149  19522  658.116184  411.087712        NaN   \n",
       "126  12.417808      0.037797  19638  672.153234   74.156037        0.0   \n",
       "135  23.340049      0.039023  19596  726.196516  396.773981        NaN   \n",
       "166  39.703060      0.073723  18870  248.010000   70.271198        0.0   \n",
       "170  34.857361      0.114097  18964  241.552664   72.970497        NaN   \n",
       "185  35.101579      0.094531  18486  264.497255   80.768167      -64.0   \n",
       "224  38.004822      0.088918  18523  255.289862   75.161299        0.0   \n",
       "331  35.137522      0.093361  19251  262.668491   77.213051        NaN   \n",
       "471  44.813757      0.102862  18379  259.776821   72.035083        NaN   \n",
       "479  36.259976      0.105738  18620  288.507312   74.897367        0.0   \n",
       "525  28.149706      0.091212  19204  253.637540   78.051216      -64.0   \n",
       "535  43.410781      0.089094  19576  286.579692   62.162200        0.0   \n",
       "\n",
       "    product_type quality warranty  market_share  attractiveness  \n",
       "47   auto-portee  Medium    3ans.      0.008874        0.907834  \n",
       "62   auto-portee     Low    3 ans      0.006839        0.699600  \n",
       "64   auto-portee  Medium   3_ans.      0.007104        0.726770  \n",
       "100  auto-portee   Hight    3anss      0.007847        0.802719  \n",
       "103  auto-portee     Low    3 ans      0.006655        0.680852  \n",
       "107  auto-portee     Low   3 ans.      0.007505        0.767814  \n",
       "126  auto-portee   Hight    3_ans      0.007923        0.810591  \n",
       "135  auto-portee  Medium     3ans      0.006937        0.709674  \n",
       "166   electrique     Low    2 ans      0.002607        0.679325  \n",
       "170   electrique     Low   2 anss      0.003039        0.791921  \n",
       "185   electrique     Low   2_ans.      0.002893        0.753937  \n",
       "224   electrique     Low   2_anss      0.002752        0.717166  \n",
       "331   electrique     Low   2_ans.      0.002158        0.562313  \n",
       "471   electrique  Medium    2 ans      0.002886        0.751908  \n",
       "479   electrique     Low   2 ans.      0.001733        0.451514  \n",
       "525   electrique     Low    2_ans      0.002763        0.719915  \n",
       "535   electrique     Low   2 anss      0.002389        0.622614  "
      ]
     },
     "execution_count": 6,
     "metadata": {},
     "output_type": "execute_result"
    }
   ],
   "source": [
    "natural_prices = (df[\"price\"]-df[\"margin\"] >= 0)\n",
    "\n",
    "df[~natural_prices]"
   ]
  },
  {
   "cell_type": "markdown",
   "metadata": {},
   "source": [
    "It appears that it is not always the case which is peculiar, in the absence of a context it is difficult to determine why but it is worth noting that these mowers also have strange production costs. Plus this does not happen in the validation set, which might worsen our predictions."
   ]
  },
  {
   "cell_type": "code",
   "execution_count": 5,
   "metadata": {},
   "outputs": [
    {
     "data": {
      "text/html": [
       "<div>\n",
       "<style scoped>\n",
       "    .dataframe tbody tr th:only-of-type {\n",
       "        vertical-align: middle;\n",
       "    }\n",
       "\n",
       "    .dataframe tbody tr th {\n",
       "        vertical-align: top;\n",
       "    }\n",
       "\n",
       "    .dataframe thead th {\n",
       "        text-align: right;\n",
       "    }\n",
       "</style>\n",
       "<table border=\"1\" class=\"dataframe\">\n",
       "  <thead>\n",
       "    <tr style=\"text-align: right;\">\n",
       "      <th></th>\n",
       "      <th>capacity</th>\n",
       "      <th>failure_rate</th>\n",
       "      <th>margin</th>\n",
       "      <th>price</th>\n",
       "      <th>prod_cost</th>\n",
       "      <th>market_share</th>\n",
       "      <th>attractiveness</th>\n",
       "    </tr>\n",
       "  </thead>\n",
       "  <tbody>\n",
       "    <tr>\n",
       "      <th>capacity</th>\n",
       "      <td>1.000000</td>\n",
       "      <td>0.623566</td>\n",
       "      <td>-0.642156</td>\n",
       "      <td>-0.567528</td>\n",
       "      <td>-0.609975</td>\n",
       "      <td>-0.565246</td>\n",
       "      <td>0.038534</td>\n",
       "    </tr>\n",
       "    <tr>\n",
       "      <th>failure_rate</th>\n",
       "      <td>0.623566</td>\n",
       "      <td>1.000000</td>\n",
       "      <td>-0.880764</td>\n",
       "      <td>-0.794297</td>\n",
       "      <td>-0.904262</td>\n",
       "      <td>-0.777919</td>\n",
       "      <td>-0.148860</td>\n",
       "    </tr>\n",
       "    <tr>\n",
       "      <th>margin</th>\n",
       "      <td>-0.642156</td>\n",
       "      <td>-0.880764</td>\n",
       "      <td>1.000000</td>\n",
       "      <td>0.869895</td>\n",
       "      <td>0.858342</td>\n",
       "      <td>0.948025</td>\n",
       "      <td>0.188124</td>\n",
       "    </tr>\n",
       "    <tr>\n",
       "      <th>price</th>\n",
       "      <td>-0.567528</td>\n",
       "      <td>-0.794297</td>\n",
       "      <td>0.869895</td>\n",
       "      <td>1.000000</td>\n",
       "      <td>0.799340</td>\n",
       "      <td>0.805629</td>\n",
       "      <td>0.142830</td>\n",
       "    </tr>\n",
       "    <tr>\n",
       "      <th>prod_cost</th>\n",
       "      <td>-0.609975</td>\n",
       "      <td>-0.904262</td>\n",
       "      <td>0.858342</td>\n",
       "      <td>0.799340</td>\n",
       "      <td>1.000000</td>\n",
       "      <td>0.755678</td>\n",
       "      <td>0.127906</td>\n",
       "    </tr>\n",
       "    <tr>\n",
       "      <th>market_share</th>\n",
       "      <td>-0.565246</td>\n",
       "      <td>-0.777919</td>\n",
       "      <td>0.948025</td>\n",
       "      <td>0.805629</td>\n",
       "      <td>0.755678</td>\n",
       "      <td>1.000000</td>\n",
       "      <td>0.415520</td>\n",
       "    </tr>\n",
       "    <tr>\n",
       "      <th>attractiveness</th>\n",
       "      <td>0.038534</td>\n",
       "      <td>-0.148860</td>\n",
       "      <td>0.188124</td>\n",
       "      <td>0.142830</td>\n",
       "      <td>0.127906</td>\n",
       "      <td>0.415520</td>\n",
       "      <td>1.000000</td>\n",
       "    </tr>\n",
       "  </tbody>\n",
       "</table>\n",
       "</div>"
      ],
      "text/plain": [
       "                capacity  failure_rate    margin     price  prod_cost  \\\n",
       "capacity        1.000000      0.623566 -0.642156 -0.567528  -0.609975   \n",
       "failure_rate    0.623566      1.000000 -0.880764 -0.794297  -0.904262   \n",
       "margin         -0.642156     -0.880764  1.000000  0.869895   0.858342   \n",
       "price          -0.567528     -0.794297  0.869895  1.000000   0.799340   \n",
       "prod_cost      -0.609975     -0.904262  0.858342  0.799340   1.000000   \n",
       "market_share   -0.565246     -0.777919  0.948025  0.805629   0.755678   \n",
       "attractiveness  0.038534     -0.148860  0.188124  0.142830   0.127906   \n",
       "\n",
       "                market_share  attractiveness  \n",
       "capacity           -0.565246        0.038534  \n",
       "failure_rate       -0.777919       -0.148860  \n",
       "margin              0.948025        0.188124  \n",
       "price               0.805629        0.142830  \n",
       "prod_cost           0.755678        0.127906  \n",
       "market_share        1.000000        0.415520  \n",
       "attractiveness      0.415520        1.000000  "
      ]
     },
     "execution_count": 5,
     "metadata": {},
     "output_type": "execute_result"
    }
   ],
   "source": [
    "df[[col for col in df.columns if col != \"id\"]].corr()"
   ]
  },
  {
   "cell_type": "code",
   "execution_count": 4,
   "metadata": {},
   "outputs": [
    {
     "name": "stdout",
     "output_type": "stream",
     "text": [
      "Populating the interactive namespace from numpy and matplotlib\n"
     ]
    },
    {
     "data": {
      "text/plain": [
       "<matplotlib.legend.Legend at 0x10d1f0590>"
      ]
     },
     "execution_count": 4,
     "metadata": {},
     "output_type": "execute_result"
    },
    {
     "data": {
      "image/png": "[encoded data removed]",
      "text/plain": [
       "<matplotlib.figure.Figure at 0x10cfb2990>"
      ]
     },
     "metadata": {},
     "output_type": "display_data"
    }
   ],
   "source": [
    "#I am suspicious about negative production costs it could be an error of imputation, I want to look at the distribution of prod_cost\n",
    "%pylab inline\n",
    "\n",
    "validation_set[\"prod_cost\"].hist(alpha=.3)\n",
    "df[\"prod_cost\"].hist(alpha=.5)\n",
    "\n",
    "plt.legend([\"validation set\", \"training set\"])"
   ]
  },
  {
   "cell_type": "markdown",
   "metadata": {},
   "source": [
    "We observe three distinct groups, it might be worth bucketizing this column, we will find out later. Plus we observe that no production costs are negative on the validation set. Besides, in what world are there no production costs ?"
   ]
  },
  {
   "cell_type": "code",
   "execution_count": 49,
   "metadata": {},
   "outputs": [
    {
     "data": {
      "text/plain": [
       "18"
      ]
     },
     "execution_count": 49,
     "metadata": {},
     "output_type": "execute_result"
    }
   ],
   "source": [
    "sum(df[\"prod_cost\"] < 0) # Important : Validate that it is not an error"
   ]
  },
  {
   "cell_type": "code",
   "execution_count": 52,
   "metadata": {},
   "outputs": [
    {
     "data": {
      "text/plain": [
       "essence        844\n",
       "electrique     413\n",
       "auto-portee    142\n",
       "Name: product_type, dtype: int64"
      ]
     },
     "execution_count": 52,
     "metadata": {},
     "output_type": "execute_result"
    }
   ],
   "source": [
    "df.product_type.value_counts()"
   ]
  },
  {
   "cell_type": "code",
   "execution_count": 53,
   "metadata": {},
   "outputs": [
    {
     "data": {
      "text/plain": [
       "Low       971\n",
       "Medium    295\n",
       "Hight     133\n",
       "Name: quality, dtype: int64"
      ]
     },
     "execution_count": 53,
     "metadata": {},
     "output_type": "execute_result"
    }
   ],
   "source": [
    "df.quality.value_counts()"
   ]
  },
  {
   "cell_type": "markdown",
   "metadata": {},
   "source": [
    "This column is imputed like garbage, we should recompute it, while making sure we do not lose predictive power. As odd as it might be this oddness could be used as a feature. But let's first compare with the submission set:"
   ]
  },
  {
   "cell_type": "code",
   "execution_count": 56,
   "metadata": {},
   "outputs": [
    {
     "data": {
      "text/plain": [
       "1 an     355\n",
       "2 ans    185\n",
       "3 ans     60\n",
       "Name: warranty, dtype: int64"
      ]
     },
     "execution_count": 56,
     "metadata": {},
     "output_type": "execute_result"
    }
   ],
   "source": [
    "validation_set.warranty.value_counts()"
   ]
  },
  {
   "cell_type": "markdown",
   "metadata": {},
   "source": [
    "Ok so this is just wrong coding.."
   ]
  },
  {
   "cell_type": "markdown",
   "metadata": {},
   "source": [
    "### Let's fix warranty"
   ]
  },
  {
   "cell_type": "code",
   "execution_count": 6,
   "metadata": {},
   "outputs": [],
   "source": [
    "df[\"warranty\"] = df[\"warranty\"].apply(lambda w: dataframe_cleaner.clean_warranty(w))"
   ]
  },
  {
   "cell_type": "code",
   "execution_count": 8,
   "metadata": {},
   "outputs": [
    {
     "data": {
      "text/plain": [
       "<matplotlib.axes._subplots.AxesSubplot at 0x10d28e950>"
      ]
     },
     "execution_count": 8,
     "metadata": {},
     "output_type": "execute_result"
    },
    {
     "data": {
      "image/png": "[encoded data removed]",
      "text/plain": [
       "<matplotlib.figure.Figure at 0x10d28e050>"
      ]
     },
     "metadata": {},
     "output_type": "display_data"
    }
   ],
   "source": [
    "from seaborn import kdeplot\n",
    "\n",
    "plt.figure(figsize=[10,10])\n",
    "df[\"attractiveness\"].hist(bins=20, normed=True)\n",
    "kdeplot(df.attractiveness)"
   ]
  },
  {
   "cell_type": "markdown",
   "metadata": {},
   "source": [
    "The variable seems to have approximately a normal distribution, so we might be good to go using a linear regression and have difficulties improving our predictions. "
   ]
  },
  {
   "cell_type": "code",
   "execution_count": 310,
   "metadata": {},
   "outputs": [
    {
     "name": "stdout",
     "output_type": "stream",
     "text": [
      "essence        844\n",
      "electrique     413\n",
      "auto-portee    142\n",
      "Name: product_type, dtype: int64\n",
      "1 an     844\n",
      "2 ans    413\n",
      "3 ans    142\n",
      "Name: warranty, dtype: int64\n"
     ]
    }
   ],
   "source": [
    "print df.product_type.value_counts()\n",
    "print df.warranty.value_counts()"
   ]
  },
  {
   "cell_type": "markdown",
   "metadata": {},
   "source": [
    "It looks like warranty and product types are identical. We can guess that each product type has a specific warranty, let's find out:"
   ]
  },
  {
   "cell_type": "code",
   "execution_count": 34,
   "metadata": {},
   "outputs": [
    {
     "data": {
      "text/plain": [
       "True"
      ]
     },
     "execution_count": 34,
     "metadata": {},
     "output_type": "execute_result"
    }
   ],
   "source": [
    "(all(df.groupby(\"product_type\").get_group(\"auto-portee\")[\"warranty\"] == \"3 ans\")\n",
    "&all(df.groupby(\"product_type\").get_group(\"electrique\")[\"warranty\"] == \"2 ans\")\n",
    "&all(df.groupby(\"product_type\").get_group(\"essence\")[\"warranty\"] == \"1 an\"))"
   ]
  },
  {
   "cell_type": "code",
   "execution_count": 35,
   "metadata": {},
   "outputs": [
    {
     "data": {
      "text/plain": [
       "True"
      ]
     },
     "execution_count": 35,
     "metadata": {},
     "output_type": "execute_result"
    }
   ],
   "source": [
    "(all(validation_set.groupby(\"product_type\").get_group(\"auto-portee\")[\"warranty\"] == \"3 ans\")\n",
    "&all(validation_set.groupby(\"product_type\").get_group(\"electrique\")[\"warranty\"] == \"2 ans\")\n",
    "&all(validation_set.groupby(\"product_type\").get_group(\"essence\")[\"warranty\"] == \"1 an\"))"
   ]
  },
  {
   "cell_type": "markdown",
   "metadata": {},
   "source": [
    "Our Hypothesis is validated let's drop this column, we also drop market share since it is not present in the validation set."
   ]
  },
  {
   "cell_type": "markdown",
   "metadata": {},
   "source": [
    "### Dropping Unnecessary Columns"
   ]
  },
  {
   "cell_type": "code",
   "execution_count": 7,
   "metadata": {},
   "outputs": [],
   "source": [
    "df = dataframe_cleaner.drop_columns(df)\n",
    "validation_set = dataframe_cleaner.drop_columns(validation_set, True)"
   ]
  },
  {
   "cell_type": "markdown",
   "metadata": {},
   "source": [
    "# Feature Preparation"
   ]
  },
  {
   "cell_type": "code",
   "execution_count": 8,
   "metadata": {},
   "outputs": [],
   "source": [
    "X, y = prepare_features.separate_num_cat_target(df)"
   ]
  },
  {
   "cell_type": "code",
   "execution_count": 9,
   "metadata": {},
   "outputs": [],
   "source": [
    "X_train, X_test, y_train, y_test = train_test_split(X,y, test_size=.3)"
   ]
  },
  {
   "cell_type": "markdown",
   "metadata": {},
   "source": [
    "## First Model"
   ]
  },
  {
   "cell_type": "code",
   "execution_count": 10,
   "metadata": {},
   "outputs": [],
   "source": [
    "rmsle = Metrics().rmsle"
   ]
  },
  {
   "cell_type": "markdown",
   "metadata": {},
   "source": [
    "Let's start with a baseline: for each y in the holdout set we will predict the average of the train set and measure our error. In some sense it is a first response, incomplete but it will allow us to have a better understanding of what type of results we could hope for."
   ]
  },
  {
   "cell_type": "code",
   "execution_count": 313,
   "metadata": {},
   "outputs": [
    {
     "data": {
      "text/plain": [
       "0.07536520551769196"
      ]
     },
     "execution_count": 313,
     "metadata": {},
     "output_type": "execute_result"
    }
   ],
   "source": [
    "rmsle(y_test, np.ones(len(y_test))*y_train.mean())"
   ]
  },
  {
   "cell_type": "code",
   "execution_count": 82,
   "metadata": {
    "scrolled": true
   },
   "outputs": [
    {
     "ename": "ValueError",
     "evalue": "Input contains NaN, infinity or a value too large for dtype('float64').",
     "output_type": "error",
     "traceback": [
      "\u001b[0;31m---------------------------------------------------------------------------\u001b[0m",
      "\u001b[0;31mValueError\u001b[0m                                Traceback (most recent call last)",
      "\u001b[0;32m<ipython-input-82-974b4ecb4ed3>\u001b[0m in \u001b[0;36m<module>\u001b[0;34m()\u001b[0m\n\u001b[1;32m      3\u001b[0m \u001b[0mreg\u001b[0m \u001b[0;34m=\u001b[0m \u001b[0mLinearRegression\u001b[0m\u001b[0;34m(\u001b[0m\u001b[0;34m)\u001b[0m\u001b[0;34m\u001b[0m\u001b[0m\n\u001b[1;32m      4\u001b[0m \u001b[0;34m\u001b[0m\u001b[0m\n\u001b[0;32m----> 5\u001b[0;31m \u001b[0mreg\u001b[0m\u001b[0;34m.\u001b[0m\u001b[0mfit\u001b[0m\u001b[0;34m(\u001b[0m\u001b[0mX_train\u001b[0m\u001b[0;34m,\u001b[0m \u001b[0my_train\u001b[0m\u001b[0;34m)\u001b[0m\u001b[0;34m\u001b[0m\u001b[0m\n\u001b[0m",
      "\u001b[0;32m/Users/thedoctor/anaconda/envs/xebia-exercice/lib/python2.7/site-packages/sklearn/linear_model/base.pyc\u001b[0m in \u001b[0;36mfit\u001b[0;34m(self, X, y, sample_weight)\u001b[0m\n\u001b[1;32m    480\u001b[0m         \u001b[0mn_jobs_\u001b[0m \u001b[0;34m=\u001b[0m \u001b[0mself\u001b[0m\u001b[0;34m.\u001b[0m\u001b[0mn_jobs\u001b[0m\u001b[0;34m\u001b[0m\u001b[0m\n\u001b[1;32m    481\u001b[0m         X, y = check_X_y(X, y, accept_sparse=['csr', 'csc', 'coo'],\n\u001b[0;32m--> 482\u001b[0;31m                          y_numeric=True, multi_output=True)\n\u001b[0m\u001b[1;32m    483\u001b[0m \u001b[0;34m\u001b[0m\u001b[0m\n\u001b[1;32m    484\u001b[0m         \u001b[0;32mif\u001b[0m \u001b[0msample_weight\u001b[0m \u001b[0;32mis\u001b[0m \u001b[0;32mnot\u001b[0m \u001b[0mNone\u001b[0m \u001b[0;32mand\u001b[0m \u001b[0mnp\u001b[0m\u001b[0;34m.\u001b[0m\u001b[0matleast_1d\u001b[0m\u001b[0;34m(\u001b[0m\u001b[0msample_weight\u001b[0m\u001b[0;34m)\u001b[0m\u001b[0;34m.\u001b[0m\u001b[0mndim\u001b[0m \u001b[0;34m>\u001b[0m \u001b[0;36m1\u001b[0m\u001b[0;34m:\u001b[0m\u001b[0;34m\u001b[0m\u001b[0m\n",
      "\u001b[0;32m/Users/thedoctor/anaconda/envs/xebia-exercice/lib/python2.7/site-packages/sklearn/utils/validation.pyc\u001b[0m in \u001b[0;36mcheck_X_y\u001b[0;34m(X, y, accept_sparse, dtype, order, copy, force_all_finite, ensure_2d, allow_nd, multi_output, ensure_min_samples, ensure_min_features, y_numeric, warn_on_dtype, estimator)\u001b[0m\n\u001b[1;32m    571\u001b[0m     X = check_array(X, accept_sparse, dtype, order, copy, force_all_finite,\n\u001b[1;32m    572\u001b[0m                     \u001b[0mensure_2d\u001b[0m\u001b[0;34m,\u001b[0m \u001b[0mallow_nd\u001b[0m\u001b[0;34m,\u001b[0m \u001b[0mensure_min_samples\u001b[0m\u001b[0;34m,\u001b[0m\u001b[0;34m\u001b[0m\u001b[0m\n\u001b[0;32m--> 573\u001b[0;31m                     ensure_min_features, warn_on_dtype, estimator)\n\u001b[0m\u001b[1;32m    574\u001b[0m     \u001b[0;32mif\u001b[0m \u001b[0mmulti_output\u001b[0m\u001b[0;34m:\u001b[0m\u001b[0;34m\u001b[0m\u001b[0m\n\u001b[1;32m    575\u001b[0m         y = check_array(y, 'csr', force_all_finite=True, ensure_2d=False,\n",
      "\u001b[0;32m/Users/thedoctor/anaconda/envs/xebia-exercice/lib/python2.7/site-packages/sklearn/utils/validation.pyc\u001b[0m in \u001b[0;36mcheck_array\u001b[0;34m(array, accept_sparse, dtype, order, copy, force_all_finite, ensure_2d, allow_nd, ensure_min_samples, ensure_min_features, warn_on_dtype, estimator)\u001b[0m\n\u001b[1;32m    451\u001b[0m                              % (array.ndim, estimator_name))\n\u001b[1;32m    452\u001b[0m         \u001b[0;32mif\u001b[0m \u001b[0mforce_all_finite\u001b[0m\u001b[0;34m:\u001b[0m\u001b[0;34m\u001b[0m\u001b[0m\n\u001b[0;32m--> 453\u001b[0;31m             \u001b[0m_assert_all_finite\u001b[0m\u001b[0;34m(\u001b[0m\u001b[0marray\u001b[0m\u001b[0;34m)\u001b[0m\u001b[0;34m\u001b[0m\u001b[0m\n\u001b[0m\u001b[1;32m    454\u001b[0m \u001b[0;34m\u001b[0m\u001b[0m\n\u001b[1;32m    455\u001b[0m     \u001b[0mshape_repr\u001b[0m \u001b[0;34m=\u001b[0m \u001b[0m_shape_repr\u001b[0m\u001b[0;34m(\u001b[0m\u001b[0marray\u001b[0m\u001b[0;34m.\u001b[0m\u001b[0mshape\u001b[0m\u001b[0;34m)\u001b[0m\u001b[0;34m\u001b[0m\u001b[0m\n",
      "\u001b[0;32m/Users/thedoctor/anaconda/envs/xebia-exercice/lib/python2.7/site-packages/sklearn/utils/validation.pyc\u001b[0m in \u001b[0;36m_assert_all_finite\u001b[0;34m(X)\u001b[0m\n\u001b[1;32m     42\u001b[0m             and not np.isfinite(X).all()):\n\u001b[1;32m     43\u001b[0m         raise ValueError(\"Input contains NaN, infinity\"\n\u001b[0;32m---> 44\u001b[0;31m                          \" or a value too large for %r.\" % X.dtype)\n\u001b[0m\u001b[1;32m     45\u001b[0m \u001b[0;34m\u001b[0m\u001b[0m\n\u001b[1;32m     46\u001b[0m \u001b[0;34m\u001b[0m\u001b[0m\n",
      "\u001b[0;31mValueError\u001b[0m: Input contains NaN, infinity or a value too large for dtype('float64')."
     ]
    }
   ],
   "source": [
    "from sklearn.linear_model import LinearRegression\n",
    "\n",
    "reg = LinearRegression()\n",
    "\n",
    "reg.fit(X_train, y_train)"
   ]
  },
  {
   "cell_type": "markdown",
   "metadata": {},
   "source": [
    "Yikes, we did not verify there was no null production costs... We need some inputation for this column, but it would be too strange to input 0 as the value. Hypothesis : Since production cost are very correlated with the other features, a 1-nearest neighbour approach for inputation might reflect reality."
   ]
  },
  {
   "cell_type": "code",
   "execution_count": 11,
   "metadata": {},
   "outputs": [
    {
     "data": {
      "text/plain": [
       "18"
      ]
     },
     "execution_count": 11,
     "metadata": {},
     "output_type": "execute_result"
    }
   ],
   "source": [
    "null_prod_costs = (df.prod_cost.isna())\n",
    "cols = [col for col in X.columns if col != \"prod_cost\"]\n",
    "df[null_prod_costs].__len__()"
   ]
  },
  {
   "cell_type": "code",
   "execution_count": 12,
   "metadata": {},
   "outputs": [],
   "source": [
    "null_imputer = prepare_features.null_imputer"
   ]
  },
  {
   "cell_type": "code",
   "execution_count": 13,
   "metadata": {},
   "outputs": [
    {
     "data": {
      "text/plain": [
       "array([-64.,   0.,   0., -64.,   0., -64.,   0., -64.,   0.,   0., -64.,\n",
       "         0., -64., -64.,   0., -64.,   0., -64.])"
      ]
     },
     "execution_count": 13,
     "metadata": {},
     "output_type": "execute_result"
    }
   ],
   "source": [
    "null_imputer(X, null_prod_costs, 1).predict(X[null_prod_costs][cols])"
   ]
  },
  {
   "cell_type": "markdown",
   "metadata": {},
   "source": [
    "When looking at the prediction, we realize that the neighbours of our null values are the strange points we already encountered production costs that are equal or inferior to zero. Decision : For the time being, try 8-knn but with all the strange values."
   ]
  },
  {
   "cell_type": "code",
   "execution_count": 33,
   "metadata": {},
   "outputs": [],
   "source": [
    "from sklearn.neighbors import KNeighborsRegressor\n",
    "\n",
    "cols = [col for col in X.columns if col != \"prod_cost\"]\n",
    "null_prod_costs = (df.prod_cost.isna()) | (df.prod_cost <=0)\n",
    "null_predictor = null_imputer(X, null_prod_costs, 8)"
   ]
  },
  {
   "cell_type": "code",
   "execution_count": 34,
   "metadata": {
    "scrolled": true
   },
   "outputs": [
    {
     "data": {
      "text/plain": [
       "array([ 81.75251996, 104.88821655, 143.28689361, 112.96643214,\n",
       "        84.63043129, 108.96566639,  84.63043129, 141.17373476,\n",
       "       172.92917292, 172.92917292,  11.99508972,  11.69605408,\n",
       "        11.69605408, 172.92917292,  11.99508972, 172.92917292,\n",
       "       172.92917292, 172.92917292,  11.69605408, 172.92917292,\n",
       "        11.99508972,  11.99508972, 150.63516713,  11.69605408,\n",
       "       172.92917292,  11.99508972, 125.03949817, 145.32280405,\n",
       "       141.09899754, 141.09899754, 142.95507711, 125.03949817,\n",
       "       125.03949817, 125.03949817, 125.03949817, 141.09899754,\n",
       "       142.95507711, 126.12722946, 141.09899754, 141.09899754,\n",
       "       141.09899754, 142.95507711, 141.09899754, 141.09899754,\n",
       "       141.09899754, 126.12722946, 125.03949817, 141.09899754,\n",
       "       125.03949817, 141.09899754, 126.12722946, 122.59838519,\n",
       "       141.09899754, 125.03949817, 122.59838519, 142.95507711,\n",
       "       141.09899754, 141.09899754, 125.03949817, 142.95507711,\n",
       "       125.18263815, 126.12722946, 141.09899754, 141.09899754,\n",
       "       141.09899754, 142.95507711, 125.03949817, 141.09899754,\n",
       "       142.95507711])"
      ]
     },
     "execution_count": 34,
     "metadata": {},
     "output_type": "execute_result"
    }
   ],
   "source": [
    "predictions = null_predictor.predict(X[null_prod_costs][cols])\n",
    "train_predictions = null_predictor.predict(X[~null_prod_costs][cols])\n",
    "predictions"
   ]
  },
  {
   "cell_type": "code",
   "execution_count": 73,
   "metadata": {},
   "outputs": [
    {
     "data": {
      "text/plain": [
       "0.05653949753997338"
      ]
     },
     "execution_count": 73,
     "metadata": {},
     "output_type": "execute_result"
    }
   ],
   "source": [
    "rmsle(train_predictions, X[~null_prod_costs][\"prod_cost\"])"
   ]
  },
  {
   "cell_type": "markdown",
   "metadata": {},
   "source": [
    "We will keep this model only if it does better than the model where prod_cost = 0 for strange values. We checked that there are no strange values in the validation set, so we might be introducing artificial bias, but we cannot know without a good explanation of why these values are strange. Another solution would be to learn a model on the validation set and apply it to the strange values in the training set, but that would just be cheating and would be detrimental to the generalization power of the model."
   ]
  },
  {
   "cell_type": "markdown",
   "metadata": {},
   "source": [
    "# Second model : with 0 inputation"
   ]
  },
  {
   "cell_type": "code",
   "execution_count": 29,
   "metadata": {},
   "outputs": [],
   "source": [
    "X_0 = X.copy()\n",
    "X_0[\"prod_cost\"] =  X_0[\"prod_cost\"].apply(lambda x: x if x > 0 and (x is not np.nan) else 0)"
   ]
  },
  {
   "cell_type": "code",
   "execution_count": 30,
   "metadata": {},
   "outputs": [],
   "source": [
    "X_0_train, X_0_test, y_0_train, y_0_test = train_test_split(X_0,y, test_size=.3, random_state=1000)"
   ]
  },
  {
   "cell_type": "code",
   "execution_count": 31,
   "metadata": {},
   "outputs": [
    {
     "name": "stdout",
     "output_type": "stream",
     "text": [
      "0.06795086392671441\n"
     ]
    }
   ],
   "source": [
    "from sklearn.linear_model import LinearRegression\n",
    "\n",
    "reg = LinearRegression()\n",
    "\n",
    "reg.fit(X_0_train, y_0_train)\n",
    "\n",
    "print rmsle(reg.predict(X_0_test), y_0_test)"
   ]
  },
  {
   "cell_type": "markdown",
   "metadata": {},
   "source": [
    "# Second model : with knn inputation"
   ]
  },
  {
   "cell_type": "code",
   "execution_count": 14,
   "metadata": {},
   "outputs": [],
   "source": [
    "input_knn = prepare_features.input_knn\n",
    "\n",
    "X_k = X\n",
    "\n",
    "null_prod_costs = (df.prod_cost.isna()) | (df.prod_cost <=0)\n",
    "X_k[\"prod_cost\"] = input_knn(X_k, X_k[[\"prod_cost\"]], null_prod_costs, 8)"
   ]
  },
  {
   "cell_type": "code",
   "execution_count": 27,
   "metadata": {
    "scrolled": true
   },
   "outputs": [
    {
     "data": {
      "text/plain": [
       "47      81.752520\n",
       "62     104.888217\n",
       "64     143.286894\n",
       "100    112.966432\n",
       "103     84.630431\n",
       "Name: prod_cost, dtype: float64"
      ]
     },
     "execution_count": 27,
     "metadata": {},
     "output_type": "execute_result"
    }
   ],
   "source": [
    "X_k[null_prod_costs][\"prod_cost\"].head()"
   ]
  },
  {
   "cell_type": "code",
   "execution_count": 33,
   "metadata": {},
   "outputs": [],
   "source": [
    "X_k_train, X_k_test, y_k_train, y_k_test = train_test_split(X_k,y, test_size=.3, random_state=1000)"
   ]
  },
  {
   "cell_type": "code",
   "execution_count": 34,
   "metadata": {},
   "outputs": [
    {
     "name": "stdout",
     "output_type": "stream",
     "text": [
      "0.06795086392671441\n"
     ]
    }
   ],
   "source": [
    "from sklearn.linear_model import LinearRegression\n",
    "\n",
    "l_reg = LinearRegression()\n",
    "\n",
    "l_reg.fit(X_k_train, y_k_train)\n",
    "\n",
    "print rmsle(l_reg.predict(X_k_test), y_k_test)"
   ]
  },
  {
   "cell_type": "markdown",
   "metadata": {},
   "source": [
    "We slightly improved our prediction without complicating the model too much so let's keep knn we are doing slightly better than always predicting the mean. We will now try different models. Let's look at our predictions :"
   ]
  },
  {
   "cell_type": "code",
   "execution_count": 80,
   "metadata": {},
   "outputs": [
    {
     "data": {
      "text/plain": [
       "[<matplotlib.lines.Line2D at 0x1138b6f90>]"
      ]
     },
     "execution_count": 80,
     "metadata": {},
     "output_type": "execute_result"
    },
    {
     "data": {
      "image/png": "[encoded data removed]",
      "text/plain": [
       "<matplotlib.figure.Figure at 0x10d392e10>"
      ]
     },
     "metadata": {},
     "output_type": "display_data"
    }
   ],
   "source": [
    "import matplotlib.pyplot as plt\n",
    "\n",
    "plt.scatter(l_reg.predict(X_k_test), y_k_test)\n",
    "plt.plot(np.linspace(.25,1,len(y_k_test)), np.linspace(.25,1,len(y_k_test)))"
   ]
  },
  {
   "cell_type": "markdown",
   "metadata": {},
   "source": [
    "Our model is always predicting values around the average value we might need a better model."
   ]
  },
  {
   "cell_type": "code",
   "execution_count": 81,
   "metadata": {},
   "outputs": [
    {
     "data": {
      "text/plain": [
       "<matplotlib.legend.Legend at 0x1139fc090>"
      ]
     },
     "execution_count": 81,
     "metadata": {},
     "output_type": "execute_result"
    },
    {
     "data": {
      "image/png": "[encoded data removed]",
      "text/plain": [
       "<matplotlib.figure.Figure at 0x11393c210>"
      ]
     },
     "metadata": {},
     "output_type": "display_data"
    }
   ],
   "source": [
    "plt.figure(figsize=[10,10])\n",
    "\n",
    "kdeplot(l_reg.predict(X_k_test), alpha=.5)\n",
    "kdeplot(y_k_test.values,alpha=.5)\n",
    "\n",
    "plt.hist(l_reg.predict(X_k_test), alpha=.5, normed=True,bins=50)\n",
    "plt.hist(y_k_test,alpha=.5, normed=True,bins=50)\n",
    "plt.legend([\"Y_predicted\", \"Y\"])"
   ]
  },
  {
   "cell_type": "markdown",
   "metadata": {},
   "source": [
    "# Different models"
   ]
  },
  {
   "cell_type": "markdown",
   "metadata": {},
   "source": [
    "## ElasticNet"
   ]
  },
  {
   "cell_type": "code",
   "execution_count": 36,
   "metadata": {},
   "outputs": [
    {
     "name": "stdout",
     "output_type": "stream",
     "text": [
      "0.06820595219255794\n"
     ]
    }
   ],
   "source": [
    "from sklearn.linear_model import ElasticNetCV\n",
    "\n",
    "e_reg = ElasticNetCV([.1,.3,.5,.6,.7,.8,.9,1.], cv=17, normalize=True,n_jobs=-1, random_state=1000)\n",
    "\n",
    "e_reg.fit(X_k_train, np.log(1+y_k_train))\n",
    "\n",
    "print rmsle(np.exp(e_reg.predict(X_k_test))-1, y_k_test)"
   ]
  },
  {
   "cell_type": "code",
   "execution_count": 85,
   "metadata": {},
   "outputs": [
    {
     "data": {
      "text/plain": [
       "[<matplotlib.lines.Line2D at 0x11393ca10>]"
      ]
     },
     "execution_count": 85,
     "metadata": {},
     "output_type": "execute_result"
    },
    {
     "data": {
      "image/png": "[encoded data removed]",
      "text/plain": [
       "<matplotlib.figure.Figure at 0x10d371cd0>"
      ]
     },
     "metadata": {},
     "output_type": "display_data"
    }
   ],
   "source": [
    "import matplotlib.pyplot as plt\n",
    "\n",
    "plt.scatter(np.exp(e_reg.predict(X_k_test))-1, y_k_test)\n",
    "plt.plot(np.linspace(.25,1,len(y_k_test)), np.linspace(.25,1,len(y_k_test)))"
   ]
  },
  {
   "cell_type": "code",
   "execution_count": 86,
   "metadata": {},
   "outputs": [
    {
     "data": {
      "text/plain": [
       "<matplotlib.legend.Legend at 0x113d22890>"
      ]
     },
     "execution_count": 86,
     "metadata": {},
     "output_type": "execute_result"
    },
    {
     "data": {
      "image/png": "[encoded data removed]",
      "text/plain": [
       "<matplotlib.figure.Figure at 0x113b707d0>"
      ]
     },
     "metadata": {},
     "output_type": "display_data"
    }
   ],
   "source": [
    "plt.figure(figsize=[10,10])\n",
    "\n",
    "kdeplot(np.exp(e_reg.predict(X_k_test))-1, alpha=.5)\n",
    "kdeplot(y_k_test.values,alpha=.5)\n",
    "\n",
    "plt.hist(np.exp(e_reg.predict(X_k_test))-1, alpha=.5, normed=True,bins=50)\n",
    "plt.hist(y_k_test,alpha=.5, normed=True,bins=50)\n",
    "plt.legend([\"Y_predicted\", \"Y\"])"
   ]
  },
  {
   "cell_type": "markdown",
   "metadata": {},
   "source": [
    "Elastic Net is doing worse than classical linear regression."
   ]
  },
  {
   "cell_type": "markdown",
   "metadata": {},
   "source": [
    "## Gradient Boosted Trees"
   ]
  },
  {
   "cell_type": "code",
   "execution_count": 41,
   "metadata": {},
   "outputs": [
    {
     "name": "stdout",
     "output_type": "stream",
     "text": [
      "0.045607111980572566\n",
      "0.0456451237350371\n"
     ]
    }
   ],
   "source": [
    "from sklearn.ensemble import GradientBoostingRegressor\n",
    "\n",
    "g_reg_0 = GradientBoostingRegressor(n_estimators=500, max_depth=5, learning_rate=.05)\n",
    "g_reg_k = GradientBoostingRegressor(n_estimators=500, max_depth=5, learning_rate=.05)\n",
    "\n",
    "g_reg_0 = g_reg_0.fit(X_0_train, np.log(1+y_0_train))\n",
    "\n",
    "g_reg_k = g_reg_k.fit(X_k_train, np.log(1+y_k_train))\n",
    "\n",
    "print rmsle(np.exp(g_reg_0.predict(X_0_test))-1, y_0_test)\n",
    "print rmsle(np.exp(g_reg_k.predict(X_k_test))-1, y_k_test)"
   ]
  },
  {
   "cell_type": "code",
   "execution_count": 28,
   "metadata": {},
   "outputs": [
    {
     "data": {
      "text/plain": [
       "[<matplotlib.lines.Line2D at 0x1a0d501890>]"
      ]
     },
     "execution_count": 28,
     "metadata": {},
     "output_type": "execute_result"
    },
    {
     "data": {
      "image/png": "[encoded data removed]",
      "text/plain": [
       "<matplotlib.figure.Figure at 0x1a0d49e710>"
      ]
     },
     "metadata": {},
     "output_type": "display_data"
    }
   ],
   "source": [
    "import matplotlib.pyplot as plt\n",
    "\n",
    "plt.scatter(np.exp(g_reg.predict(X_0_test))-1, y_0_test)\n",
    "plt.plot(np.linspace(.25,1,len(y_0_test)), np.linspace(.25,1,len(y_0_test)))"
   ]
  },
  {
   "cell_type": "code",
   "execution_count": 90,
   "metadata": {},
   "outputs": [
    {
     "data": {
      "text/plain": [
       "<matplotlib.legend.Legend at 0x114361e90>"
      ]
     },
     "execution_count": 90,
     "metadata": {},
     "output_type": "execute_result"
    },
    {
     "data": {
      "image/png": "[encoded data removed]",
      "text/plain": [
       "<matplotlib.figure.Figure at 0x114238c90>"
      ]
     },
     "metadata": {},
     "output_type": "display_data"
    }
   ],
   "source": [
    "plt.figure(figsize=[10,10])\n",
    "\n",
    "kdeplot(np.exp(g_reg.predict(X_k_test))-1, alpha=.5)\n",
    "kdeplot(y_k_test.values,alpha=.5)\n",
    "\n",
    "plt.hist(np.exp(g_reg.predict(X_k_test))-1, alpha=.5, normed=True,bins=50)\n",
    "plt.hist(y_k_test,alpha=.5, normed=True,bins=50)\n",
    "plt.legend([\"Y_predicted\", \"Y\"])"
   ]
  },
  {
   "cell_type": "code",
   "execution_count": 91,
   "metadata": {},
   "outputs": [
    {
     "data": {
      "text/plain": [
       "0.05015703967198754"
      ]
     },
     "execution_count": 91,
     "metadata": {},
     "output_type": "execute_result"
    }
   ],
   "source": [
    "rmsle(.5*(np.exp(g_reg.predict(X_k_test))-1+l_reg.predict(X_k_test)), y_k_test)"
   ]
  },
  {
   "cell_type": "markdown",
   "metadata": {},
   "source": [
    "## Gaussian Process"
   ]
  },
  {
   "cell_type": "markdown",
   "metadata": {},
   "source": [
    "The gaussian process is particularly adapted when working with few dimensions and few data points, let's test in this context."
   ]
  },
  {
   "cell_type": "code",
   "execution_count": 44,
   "metadata": {},
   "outputs": [
    {
     "data": {
      "text/plain": [
       "GaussianProcessRegressor(alpha=1e-10, copy_X_train=True,\n",
       "             kernel=Matern(length_scale=1, nu=1.5),\n",
       "             n_restarts_optimizer=15, normalize_y=True,\n",
       "             optimizer='fmin_l_bfgs_b', random_state=1000)"
      ]
     },
     "execution_count": 44,
     "metadata": {},
     "output_type": "execute_result"
    }
   ],
   "source": [
    "from sklearn.gaussian_process import GaussianProcessRegressor\n",
    "from sklearn.gaussian_process.kernels import Matern, RBF\n",
    "gp_reg = GaussianProcessRegressor(normalize_y=True, n_restarts_optimizer=15, kernel=Matern(), random_state=1000)\n",
    "\n",
    "gp_reg.fit(X_k_train, np.log(1+y_k_train))"
   ]
  },
  {
   "cell_type": "code",
   "execution_count": 45,
   "metadata": {},
   "outputs": [
    {
     "data": {
      "text/plain": [
       "0.05908472871780649"
      ]
     },
     "execution_count": 45,
     "metadata": {},
     "output_type": "execute_result"
    }
   ],
   "source": [
    "rmsle(np.exp(gp_reg.predict(X_k_test))-1, y_k_test)"
   ]
  },
  {
   "cell_type": "code",
   "execution_count": 46,
   "metadata": {},
   "outputs": [
    {
     "data": {
      "text/plain": [
       "[<matplotlib.lines.Line2D at 0x10cc1a9d0>]"
      ]
     },
     "execution_count": 46,
     "metadata": {},
     "output_type": "execute_result"
    },
    {
     "data": {
      "image/png": "[encoded data removed]",
      "text/plain": [
       "<matplotlib.figure.Figure at 0x10cc1a750>"
      ]
     },
     "metadata": {},
     "output_type": "display_data"
    }
   ],
   "source": [
    "import matplotlib.pyplot as plt\n",
    "\n",
    "plt.scatter(np.exp(gp_reg.predict(X_k_test))-1, y_k_test)\n",
    "plt.plot(np.linspace(.25,1,len(y_k_test)), np.linspace(.25,1,len(y_k_test)))"
   ]
  },
  {
   "cell_type": "code",
   "execution_count": 140,
   "metadata": {},
   "outputs": [
    {
     "data": {
      "text/plain": [
       "<matplotlib.legend.Legend at 0x1a25712a50>"
      ]
     },
     "execution_count": 140,
     "metadata": {},
     "output_type": "execute_result"
    },
    {
     "data": {
      "image/png": "[encoded data removed]",
      "text/plain": [
       "<matplotlib.figure.Figure at 0x1a1c4ae0d0>"
      ]
     },
     "metadata": {},
     "output_type": "display_data"
    }
   ],
   "source": [
    "plt.figure(figsize=[10,10])\n",
    "\n",
    "kdeplot(np.exp(gp_reg.predict(X_k_test))-1, alpha=.5)\n",
    "kdeplot(y_k_test.values,alpha=.5)\n",
    "\n",
    "plt.hist(np.exp(gp_reg.predict(X_k_test))-1, alpha=.5, normed=True,bins=50)\n",
    "plt.hist(y_k_test,alpha=.5, normed=True,bins=50)\n",
    "plt.legend([\"Y_predicted\", \"Y\"])"
   ]
  },
  {
   "cell_type": "markdown",
   "metadata": {},
   "source": [
    "## Neural Network"
   ]
  },
  {
   "cell_type": "markdown",
   "metadata": {},
   "source": [
    "Neural Networks are pretty popular these years, they need a lot of tweeking but thanks to recent advances in computer science they are no longer useful only when the number of observations is huge, let's try a simple Fully Connected network:"
   ]
  },
  {
   "cell_type": "code",
   "execution_count": 195,
   "metadata": {},
   "outputs": [
    {
     "name": "stdout",
     "output_type": "stream",
     "text": [
      "Train on 979 samples, validate on 420 samples\n",
      "Epoch 1/400\n",
      "979/979 [==============================] - 1s 1ms/step - loss: 0.0295 - mean_squared_logarithmic_error: 0.0295 - val_loss: 0.0111 - val_mean_squared_logarithmic_error: 0.0111\n",
      "Epoch 2/400\n",
      "979/979 [==============================] - 0s 225us/step - loss: 0.0100 - mean_squared_logarithmic_error: 0.0100 - val_loss: 0.0071 - val_mean_squared_logarithmic_error: 0.0071\n",
      "Epoch 3/400\n",
      "979/979 [==============================] - 0s 243us/step - loss: 0.0077 - mean_squared_logarithmic_error: 0.0077 - val_loss: 0.0059 - val_mean_squared_logarithmic_error: 0.0059\n",
      "Epoch 4/400\n",
      "979/979 [==============================] - 0s 241us/step - loss: 0.0069 - mean_squared_logarithmic_error: 0.0069 - val_loss: 0.0056 - val_mean_squared_logarithmic_error: 0.0056\n",
      "Epoch 5/400\n",
      "979/979 [==============================] - 0s 245us/step - loss: 0.0068 - mean_squared_logarithmic_error: 0.0068 - val_loss: 0.0052 - val_mean_squared_logarithmic_error: 0.0052\n",
      "Epoch 6/400\n",
      "979/979 [==============================] - 0s 287us/step - loss: 0.0060 - mean_squared_logarithmic_error: 0.0060 - val_loss: 0.0051 - val_mean_squared_logarithmic_error: 0.0051\n",
      "Epoch 7/400\n",
      "979/979 [==============================] - 0s 246us/step - loss: 0.0061 - mean_squared_logarithmic_error: 0.0061 - val_loss: 0.0055 - val_mean_squared_logarithmic_error: 0.0055\n",
      "Epoch 8/400\n",
      "979/979 [==============================] - 0s 238us/step - loss: 0.0059 - mean_squared_logarithmic_error: 0.0059 - val_loss: 0.0052 - val_mean_squared_logarithmic_error: 0.0052\n",
      "Epoch 9/400\n",
      "979/979 [==============================] - 0s 238us/step - loss: 0.0056 - mean_squared_logarithmic_error: 0.0056 - val_loss: 0.0049 - val_mean_squared_logarithmic_error: 0.0049\n",
      "Epoch 10/400\n",
      "979/979 [==============================] - 0s 234us/step - loss: 0.0057 - mean_squared_logarithmic_error: 0.0057 - val_loss: 0.0049 - val_mean_squared_logarithmic_error: 0.0049\n",
      "Epoch 11/400\n",
      "979/979 [==============================] - 0s 230us/step - loss: 0.0057 - mean_squared_logarithmic_error: 0.0057 - val_loss: 0.0049 - val_mean_squared_logarithmic_error: 0.0049\n",
      "Epoch 12/400\n",
      "979/979 [==============================] - 0s 215us/step - loss: 0.0056 - mean_squared_logarithmic_error: 0.0056 - val_loss: 0.0050 - val_mean_squared_logarithmic_error: 0.0050\n",
      "Epoch 13/400\n",
      "979/979 [==============================] - 0s 210us/step - loss: 0.0054 - mean_squared_logarithmic_error: 0.0054 - val_loss: 0.0049 - val_mean_squared_logarithmic_error: 0.0049\n",
      "Epoch 14/400\n",
      "979/979 [==============================] - 0s 209us/step - loss: 0.0053 - mean_squared_logarithmic_error: 0.0053 - val_loss: 0.0049 - val_mean_squared_logarithmic_error: 0.0049\n",
      "Epoch 15/400\n",
      "979/979 [==============================] - 0s 262us/step - loss: 0.0053 - mean_squared_logarithmic_error: 0.0053 - val_loss: 0.0049 - val_mean_squared_logarithmic_error: 0.0049\n",
      "Epoch 16/400\n",
      "979/979 [==============================] - 0s 282us/step - loss: 0.0055 - mean_squared_logarithmic_error: 0.0055 - val_loss: 0.0049 - val_mean_squared_logarithmic_error: 0.0049\n",
      "Epoch 17/400\n",
      "979/979 [==============================] - 0s 237us/step - loss: 0.0054 - mean_squared_logarithmic_error: 0.0054 - val_loss: 0.0049 - val_mean_squared_logarithmic_error: 0.0049\n",
      "Epoch 18/400\n",
      "979/979 [==============================] - 0s 214us/step - loss: 0.0053 - mean_squared_logarithmic_error: 0.0053 - val_loss: 0.0049 - val_mean_squared_logarithmic_error: 0.0049\n",
      "Epoch 19/400\n",
      "979/979 [==============================] - 0s 244us/step - loss: 0.0052 - mean_squared_logarithmic_error: 0.0052 - val_loss: 0.0049 - val_mean_squared_logarithmic_error: 0.0049\n",
      "Epoch 20/400\n",
      "979/979 [==============================] - 0s 232us/step - loss: 0.0051 - mean_squared_logarithmic_error: 0.0051 - val_loss: 0.0049 - val_mean_squared_logarithmic_error: 0.0049\n",
      "Epoch 21/400\n",
      "979/979 [==============================] - 0s 225us/step - loss: 0.0052 - mean_squared_logarithmic_error: 0.0052 - val_loss: 0.0049 - val_mean_squared_logarithmic_error: 0.0049\n",
      "Epoch 22/400\n",
      "979/979 [==============================] - 0s 224us/step - loss: 0.0051 - mean_squared_logarithmic_error: 0.0051 - val_loss: 0.0048 - val_mean_squared_logarithmic_error: 0.0048\n",
      "Epoch 23/400\n",
      "979/979 [==============================] - 0s 222us/step - loss: 0.0052 - mean_squared_logarithmic_error: 0.0052 - val_loss: 0.0048 - val_mean_squared_logarithmic_error: 0.0048\n",
      "Epoch 24/400\n",
      "979/979 [==============================] - 0s 219us/step - loss: 0.0054 - mean_squared_logarithmic_error: 0.0054 - val_loss: 0.0049 - val_mean_squared_logarithmic_error: 0.0049\n",
      "Epoch 25/400\n",
      "979/979 [==============================] - 0s 245us/step - loss: 0.0053 - mean_squared_logarithmic_error: 0.0053 - val_loss: 0.0048 - val_mean_squared_logarithmic_error: 0.0048\n",
      "Epoch 26/400\n",
      "979/979 [==============================] - 0s 249us/step - loss: 0.0052 - mean_squared_logarithmic_error: 0.0052 - val_loss: 0.0049 - val_mean_squared_logarithmic_error: 0.0049\n",
      "Epoch 27/400\n",
      "979/979 [==============================] - 0s 224us/step - loss: 0.0053 - mean_squared_logarithmic_error: 0.0053 - val_loss: 0.0050 - val_mean_squared_logarithmic_error: 0.0050\n",
      "Epoch 28/400\n",
      "979/979 [==============================] - 0s 228us/step - loss: 0.0052 - mean_squared_logarithmic_error: 0.0052 - val_loss: 0.0049 - val_mean_squared_logarithmic_error: 0.0049\n",
      "Epoch 29/400\n",
      "979/979 [==============================] - 0s 242us/step - loss: 0.0052 - mean_squared_logarithmic_error: 0.0052 - val_loss: 0.0048 - val_mean_squared_logarithmic_error: 0.0048\n",
      "Epoch 30/400\n",
      "979/979 [==============================] - 0s 236us/step - loss: 0.0051 - mean_squared_logarithmic_error: 0.0051 - val_loss: 0.0050 - val_mean_squared_logarithmic_error: 0.0050\n",
      "Epoch 31/400\n",
      "979/979 [==============================] - 0s 217us/step - loss: 0.0051 - mean_squared_logarithmic_error: 0.0051 - val_loss: 0.0049 - val_mean_squared_logarithmic_error: 0.0049\n",
      "Epoch 32/400\n",
      "979/979 [==============================] - 0s 211us/step - loss: 0.0051 - mean_squared_logarithmic_error: 0.0051 - val_loss: 0.0049 - val_mean_squared_logarithmic_error: 0.0049\n",
      "Epoch 33/400\n",
      "979/979 [==============================] - 0s 211us/step - loss: 0.0051 - mean_squared_logarithmic_error: 0.0051 - val_loss: 0.0048 - val_mean_squared_logarithmic_error: 0.0048\n",
      "Epoch 34/400\n",
      "979/979 [==============================] - 0s 214us/step - loss: 0.0050 - mean_squared_logarithmic_error: 0.0050 - val_loss: 0.0047 - val_mean_squared_logarithmic_error: 0.0047\n",
      "Epoch 35/400\n",
      "979/979 [==============================] - 0s 209us/step - loss: 0.0051 - mean_squared_logarithmic_error: 0.0051 - val_loss: 0.0049 - val_mean_squared_logarithmic_error: 0.0049\n",
      "Epoch 36/400\n",
      "979/979 [==============================] - 0s 209us/step - loss: 0.0050 - mean_squared_logarithmic_error: 0.0050 - val_loss: 0.0049 - val_mean_squared_logarithmic_error: 0.0049\n",
      "Epoch 37/400\n",
      "979/979 [==============================] - 0s 209us/step - loss: 0.0052 - mean_squared_logarithmic_error: 0.0052 - val_loss: 0.0049 - val_mean_squared_logarithmic_error: 0.0049\n",
      "Epoch 38/400\n",
      "979/979 [==============================] - 0s 213us/step - loss: 0.0050 - mean_squared_logarithmic_error: 0.0050 - val_loss: 0.0048 - val_mean_squared_logarithmic_error: 0.0048\n",
      "Epoch 39/400\n",
      "979/979 [==============================] - 0s 222us/step - loss: 0.0049 - mean_squared_logarithmic_error: 0.0049 - val_loss: 0.0046 - val_mean_squared_logarithmic_error: 0.0046\n",
      "Epoch 40/400\n",
      "979/979 [==============================] - 0s 224us/step - loss: 0.0049 - mean_squared_logarithmic_error: 0.0049 - val_loss: 0.0049 - val_mean_squared_logarithmic_error: 0.0049\n",
      "Epoch 41/400\n",
      "979/979 [==============================] - 0s 265us/step - loss: 0.0050 - mean_squared_logarithmic_error: 0.0050 - val_loss: 0.0048 - val_mean_squared_logarithmic_error: 0.0048\n",
      "Epoch 42/400\n",
      "979/979 [==============================] - 0s 239us/step - loss: 0.0050 - mean_squared_logarithmic_error: 0.0050 - val_loss: 0.0049 - val_mean_squared_logarithmic_error: 0.0049\n",
      "Epoch 43/400\n",
      "979/979 [==============================] - 0s 231us/step - loss: 0.0049 - mean_squared_logarithmic_error: 0.0049 - val_loss: 0.0048 - val_mean_squared_logarithmic_error: 0.0048\n"
     ]
    },
    {
     "name": "stdout",
     "output_type": "stream",
     "text": [
      "Epoch 44/400\n",
      "979/979 [==============================] - 0s 238us/step - loss: 0.0049 - mean_squared_logarithmic_error: 0.0049 - val_loss: 0.0048 - val_mean_squared_logarithmic_error: 0.0048\n",
      "Epoch 45/400\n",
      "979/979 [==============================] - 0s 233us/step - loss: 0.0049 - mean_squared_logarithmic_error: 0.0049 - val_loss: 0.0047 - val_mean_squared_logarithmic_error: 0.0047\n",
      "Epoch 46/400\n",
      "979/979 [==============================] - 0s 222us/step - loss: 0.0050 - mean_squared_logarithmic_error: 0.0050 - val_loss: 0.0048 - val_mean_squared_logarithmic_error: 0.0048\n",
      "Epoch 47/400\n",
      "979/979 [==============================] - 0s 212us/step - loss: 0.0050 - mean_squared_logarithmic_error: 0.0050 - val_loss: 0.0047 - val_mean_squared_logarithmic_error: 0.0047\n",
      "Epoch 48/400\n",
      "979/979 [==============================] - 0s 219us/step - loss: 0.0049 - mean_squared_logarithmic_error: 0.0049 - val_loss: 0.0050 - val_mean_squared_logarithmic_error: 0.0050\n",
      "Epoch 49/400\n",
      "979/979 [==============================] - 0s 226us/step - loss: 0.0050 - mean_squared_logarithmic_error: 0.0050 - val_loss: 0.0048 - val_mean_squared_logarithmic_error: 0.0048\n",
      "Epoch 50/400\n",
      "979/979 [==============================] - 0s 214us/step - loss: 0.0047 - mean_squared_logarithmic_error: 0.0047 - val_loss: 0.0047 - val_mean_squared_logarithmic_error: 0.0047\n",
      "Epoch 51/400\n",
      "979/979 [==============================] - 0s 213us/step - loss: 0.0049 - mean_squared_logarithmic_error: 0.0049 - val_loss: 0.0045 - val_mean_squared_logarithmic_error: 0.0045\n",
      "Epoch 52/400\n",
      "979/979 [==============================] - 0s 214us/step - loss: 0.0049 - mean_squared_logarithmic_error: 0.0049 - val_loss: 0.0046 - val_mean_squared_logarithmic_error: 0.0046\n",
      "Epoch 53/400\n",
      "979/979 [==============================] - 0s 211us/step - loss: 0.0048 - mean_squared_logarithmic_error: 0.0048 - val_loss: 0.0045 - val_mean_squared_logarithmic_error: 0.0045\n",
      "Epoch 54/400\n",
      "979/979 [==============================] - 0s 213us/step - loss: 0.0048 - mean_squared_logarithmic_error: 0.0048 - val_loss: 0.0046 - val_mean_squared_logarithmic_error: 0.0046\n",
      "Epoch 55/400\n",
      "979/979 [==============================] - 0s 216us/step - loss: 0.0048 - mean_squared_logarithmic_error: 0.0048 - val_loss: 0.0044 - val_mean_squared_logarithmic_error: 0.0044\n",
      "Epoch 56/400\n",
      "979/979 [==============================] - 0s 228us/step - loss: 0.0048 - mean_squared_logarithmic_error: 0.0048 - val_loss: 0.0052 - val_mean_squared_logarithmic_error: 0.0052\n",
      "Epoch 57/400\n",
      "979/979 [==============================] - 0s 222us/step - loss: 0.0050 - mean_squared_logarithmic_error: 0.0050 - val_loss: 0.0045 - val_mean_squared_logarithmic_error: 0.0045\n",
      "Epoch 58/400\n",
      "979/979 [==============================] - 0s 208us/step - loss: 0.0049 - mean_squared_logarithmic_error: 0.0049 - val_loss: 0.0047 - val_mean_squared_logarithmic_error: 0.0047\n",
      "Epoch 59/400\n",
      "979/979 [==============================] - 0s 206us/step - loss: 0.0048 - mean_squared_logarithmic_error: 0.0048 - val_loss: 0.0044 - val_mean_squared_logarithmic_error: 0.0044\n",
      "Epoch 60/400\n",
      "979/979 [==============================] - 0s 208us/step - loss: 0.0048 - mean_squared_logarithmic_error: 0.0048 - val_loss: 0.0044 - val_mean_squared_logarithmic_error: 0.0044\n",
      "Epoch 61/400\n",
      "979/979 [==============================] - 0s 208us/step - loss: 0.0047 - mean_squared_logarithmic_error: 0.0047 - val_loss: 0.0051 - val_mean_squared_logarithmic_error: 0.0051\n",
      "Epoch 62/400\n",
      "979/979 [==============================] - 0s 207us/step - loss: 0.0049 - mean_squared_logarithmic_error: 0.0049 - val_loss: 0.0046 - val_mean_squared_logarithmic_error: 0.0046\n",
      "Epoch 63/400\n",
      "979/979 [==============================] - 0s 227us/step - loss: 0.0047 - mean_squared_logarithmic_error: 0.0047 - val_loss: 0.0043 - val_mean_squared_logarithmic_error: 0.0043\n",
      "Epoch 64/400\n",
      "979/979 [==============================] - 0s 235us/step - loss: 0.0049 - mean_squared_logarithmic_error: 0.0049 - val_loss: 0.0045 - val_mean_squared_logarithmic_error: 0.0045\n",
      "Epoch 65/400\n",
      "979/979 [==============================] - 0s 235us/step - loss: 0.0048 - mean_squared_logarithmic_error: 0.0048 - val_loss: 0.0047 - val_mean_squared_logarithmic_error: 0.0047\n",
      "Epoch 66/400\n",
      "979/979 [==============================] - 0s 252us/step - loss: 0.0047 - mean_squared_logarithmic_error: 0.0047 - val_loss: 0.0054 - val_mean_squared_logarithmic_error: 0.0054\n",
      "Epoch 67/400\n",
      "979/979 [==============================] - 0s 230us/step - loss: 0.0048 - mean_squared_logarithmic_error: 0.0048 - val_loss: 0.0045 - val_mean_squared_logarithmic_error: 0.0045\n",
      "Epoch 68/400\n",
      "979/979 [==============================] - 0s 246us/step - loss: 0.0048 - mean_squared_logarithmic_error: 0.0048 - val_loss: 0.0044 - val_mean_squared_logarithmic_error: 0.0044\n",
      "Epoch 69/400\n",
      "979/979 [==============================] - 0s 233us/step - loss: 0.0048 - mean_squared_logarithmic_error: 0.0048 - val_loss: 0.0043 - val_mean_squared_logarithmic_error: 0.0043\n",
      "Epoch 70/400\n",
      "979/979 [==============================] - 0s 252us/step - loss: 0.0048 - mean_squared_logarithmic_error: 0.0048 - val_loss: 0.0043 - val_mean_squared_logarithmic_error: 0.0043\n",
      "Epoch 71/400\n",
      "979/979 [==============================] - 0s 230us/step - loss: 0.0047 - mean_squared_logarithmic_error: 0.0047 - val_loss: 0.0043 - val_mean_squared_logarithmic_error: 0.0043\n",
      "Epoch 72/400\n",
      "979/979 [==============================] - 0s 229us/step - loss: 0.0047 - mean_squared_logarithmic_error: 0.0047 - val_loss: 0.0043 - val_mean_squared_logarithmic_error: 0.0043\n",
      "Epoch 73/400\n",
      "979/979 [==============================] - 0s 234us/step - loss: 0.0047 - mean_squared_logarithmic_error: 0.0047 - val_loss: 0.0042 - val_mean_squared_logarithmic_error: 0.0042\n",
      "Epoch 74/400\n",
      "979/979 [==============================] - 0s 222us/step - loss: 0.0048 - mean_squared_logarithmic_error: 0.0048 - val_loss: 0.0043 - val_mean_squared_logarithmic_error: 0.0043\n",
      "Epoch 75/400\n",
      "979/979 [==============================] - 0s 207us/step - loss: 0.0047 - mean_squared_logarithmic_error: 0.0047 - val_loss: 0.0042 - val_mean_squared_logarithmic_error: 0.0042\n",
      "Epoch 76/400\n",
      "979/979 [==============================] - 0s 208us/step - loss: 0.0046 - mean_squared_logarithmic_error: 0.0046 - val_loss: 0.0042 - val_mean_squared_logarithmic_error: 0.0042\n",
      "Epoch 77/400\n",
      "979/979 [==============================] - 0s 207us/step - loss: 0.0046 - mean_squared_logarithmic_error: 0.0046 - val_loss: 0.0042 - val_mean_squared_logarithmic_error: 0.0042\n",
      "Epoch 78/400\n",
      "979/979 [==============================] - 0s 219us/step - loss: 0.0047 - mean_squared_logarithmic_error: 0.0047 - val_loss: 0.0051 - val_mean_squared_logarithmic_error: 0.0051\n",
      "Epoch 79/400\n",
      "979/979 [==============================] - 0s 290us/step - loss: 0.0048 - mean_squared_logarithmic_error: 0.0048 - val_loss: 0.0046 - val_mean_squared_logarithmic_error: 0.0046\n",
      "Epoch 80/400\n",
      "979/979 [==============================] - 0s 229us/step - loss: 0.0047 - mean_squared_logarithmic_error: 0.0047 - val_loss: 0.0043 - val_mean_squared_logarithmic_error: 0.0043\n",
      "Epoch 81/400\n",
      "979/979 [==============================] - 0s 209us/step - loss: 0.0046 - mean_squared_logarithmic_error: 0.0046 - val_loss: 0.0041 - val_mean_squared_logarithmic_error: 0.0041\n",
      "Epoch 82/400\n",
      "979/979 [==============================] - 0s 217us/step - loss: 0.0046 - mean_squared_logarithmic_error: 0.0046 - val_loss: 0.0044 - val_mean_squared_logarithmic_error: 0.0044\n",
      "Epoch 83/400\n",
      "979/979 [==============================] - 0s 215us/step - loss: 0.0047 - mean_squared_logarithmic_error: 0.0047 - val_loss: 0.0045 - val_mean_squared_logarithmic_error: 0.0045\n",
      "Epoch 84/400\n",
      "979/979 [==============================] - 0s 262us/step - loss: 0.0046 - mean_squared_logarithmic_error: 0.0046 - val_loss: 0.0048 - val_mean_squared_logarithmic_error: 0.0048\n",
      "Epoch 85/400\n",
      "979/979 [==============================] - 0s 254us/step - loss: 0.0047 - mean_squared_logarithmic_error: 0.0047 - val_loss: 0.0044 - val_mean_squared_logarithmic_error: 0.0044\n",
      "Epoch 86/400\n",
      "979/979 [==============================] - 0s 231us/step - loss: 0.0047 - mean_squared_logarithmic_error: 0.0047 - val_loss: 0.0047 - val_mean_squared_logarithmic_error: 0.0047\n",
      "Epoch 87/400\n"
     ]
    },
    {
     "name": "stdout",
     "output_type": "stream",
     "text": [
      "979/979 [==============================] - 0s 235us/step - loss: 0.0046 - mean_squared_logarithmic_error: 0.0046 - val_loss: 0.0042 - val_mean_squared_logarithmic_error: 0.0042\n",
      "Epoch 88/400\n",
      "979/979 [==============================] - 0s 216us/step - loss: 0.0045 - mean_squared_logarithmic_error: 0.0045 - val_loss: 0.0041 - val_mean_squared_logarithmic_error: 0.0041\n",
      "Epoch 89/400\n",
      "979/979 [==============================] - 0s 210us/step - loss: 0.0047 - mean_squared_logarithmic_error: 0.0047 - val_loss: 0.0042 - val_mean_squared_logarithmic_error: 0.0042\n",
      "Epoch 90/400\n",
      "979/979 [==============================] - 0s 210us/step - loss: 0.0045 - mean_squared_logarithmic_error: 0.0045 - val_loss: 0.0040 - val_mean_squared_logarithmic_error: 0.0040\n",
      "Epoch 91/400\n",
      "979/979 [==============================] - 0s 227us/step - loss: 0.0044 - mean_squared_logarithmic_error: 0.0044 - val_loss: 0.0041 - val_mean_squared_logarithmic_error: 0.0041\n",
      "Epoch 92/400\n",
      "979/979 [==============================] - 0s 212us/step - loss: 0.0045 - mean_squared_logarithmic_error: 0.0045 - val_loss: 0.0040 - val_mean_squared_logarithmic_error: 0.0040\n",
      "Epoch 93/400\n",
      "979/979 [==============================] - 0s 231us/step - loss: 0.0045 - mean_squared_logarithmic_error: 0.0045 - val_loss: 0.0042 - val_mean_squared_logarithmic_error: 0.0042\n",
      "Epoch 94/400\n",
      "979/979 [==============================] - 0s 216us/step - loss: 0.0045 - mean_squared_logarithmic_error: 0.0045 - val_loss: 0.0044 - val_mean_squared_logarithmic_error: 0.0044\n",
      "Epoch 95/400\n",
      "979/979 [==============================] - 0s 209us/step - loss: 0.0046 - mean_squared_logarithmic_error: 0.0046 - val_loss: 0.0044 - val_mean_squared_logarithmic_error: 0.0044\n",
      "Epoch 96/400\n",
      "979/979 [==============================] - 0s 244us/step - loss: 0.0047 - mean_squared_logarithmic_error: 0.0047 - val_loss: 0.0041 - val_mean_squared_logarithmic_error: 0.0041\n",
      "Epoch 97/400\n",
      "979/979 [==============================] - 0s 240us/step - loss: 0.0046 - mean_squared_logarithmic_error: 0.0046 - val_loss: 0.0045 - val_mean_squared_logarithmic_error: 0.0045\n",
      "Epoch 98/400\n",
      "979/979 [==============================] - 0s 236us/step - loss: 0.0048 - mean_squared_logarithmic_error: 0.0048 - val_loss: 0.0043 - val_mean_squared_logarithmic_error: 0.0043\n",
      "Epoch 99/400\n",
      "979/979 [==============================] - 0s 219us/step - loss: 0.0048 - mean_squared_logarithmic_error: 0.0048 - val_loss: 0.0045 - val_mean_squared_logarithmic_error: 0.0045\n",
      "Epoch 100/400\n",
      "979/979 [==============================] - 0s 212us/step - loss: 0.0045 - mean_squared_logarithmic_error: 0.0045 - val_loss: 0.0042 - val_mean_squared_logarithmic_error: 0.0042\n",
      "Epoch 101/400\n",
      "979/979 [==============================] - 0s 207us/step - loss: 0.0045 - mean_squared_logarithmic_error: 0.0045 - val_loss: 0.0043 - val_mean_squared_logarithmic_error: 0.0043\n",
      "Epoch 102/400\n",
      "979/979 [==============================] - 0s 223us/step - loss: 0.0047 - mean_squared_logarithmic_error: 0.0047 - val_loss: 0.0041 - val_mean_squared_logarithmic_error: 0.0041\n",
      "Epoch 103/400\n",
      "979/979 [==============================] - 0s 216us/step - loss: 0.0044 - mean_squared_logarithmic_error: 0.0044 - val_loss: 0.0040 - val_mean_squared_logarithmic_error: 0.0040\n",
      "Epoch 104/400\n",
      "979/979 [==============================] - 0s 207us/step - loss: 0.0047 - mean_squared_logarithmic_error: 0.0047 - val_loss: 0.0041 - val_mean_squared_logarithmic_error: 0.0041\n",
      "Epoch 105/400\n",
      "979/979 [==============================] - 0s 206us/step - loss: 0.0045 - mean_squared_logarithmic_error: 0.0045 - val_loss: 0.0041 - val_mean_squared_logarithmic_error: 0.0041\n",
      "Epoch 106/400\n",
      "979/979 [==============================] - 0s 208us/step - loss: 0.0046 - mean_squared_logarithmic_error: 0.0046 - val_loss: 0.0045 - val_mean_squared_logarithmic_error: 0.0045\n",
      "Epoch 107/400\n",
      "979/979 [==============================] - 0s 208us/step - loss: 0.0045 - mean_squared_logarithmic_error: 0.0045 - val_loss: 0.0040 - val_mean_squared_logarithmic_error: 0.0040\n",
      "Epoch 108/400\n",
      "979/979 [==============================] - 0s 208us/step - loss: 0.0045 - mean_squared_logarithmic_error: 0.0045 - val_loss: 0.0041 - val_mean_squared_logarithmic_error: 0.0041\n",
      "Epoch 109/400\n",
      "979/979 [==============================] - 0s 208us/step - loss: 0.0045 - mean_squared_logarithmic_error: 0.0045 - val_loss: 0.0039 - val_mean_squared_logarithmic_error: 0.0039\n",
      "Epoch 110/400\n",
      "979/979 [==============================] - 0s 209us/step - loss: 0.0048 - mean_squared_logarithmic_error: 0.0048 - val_loss: 0.0049 - val_mean_squared_logarithmic_error: 0.0049\n",
      "Epoch 111/400\n",
      "979/979 [==============================] - 0s 207us/step - loss: 0.0046 - mean_squared_logarithmic_error: 0.0046 - val_loss: 0.0052 - val_mean_squared_logarithmic_error: 0.0052\n",
      "Epoch 112/400\n",
      "979/979 [==============================] - 0s 206us/step - loss: 0.0045 - mean_squared_logarithmic_error: 0.0045 - val_loss: 0.0040 - val_mean_squared_logarithmic_error: 0.0040\n",
      "Epoch 113/400\n",
      "979/979 [==============================] - 0s 207us/step - loss: 0.0043 - mean_squared_logarithmic_error: 0.0043 - val_loss: 0.0041 - val_mean_squared_logarithmic_error: 0.0041\n",
      "Epoch 114/400\n",
      "979/979 [==============================] - 0s 208us/step - loss: 0.0045 - mean_squared_logarithmic_error: 0.0045 - val_loss: 0.0042 - val_mean_squared_logarithmic_error: 0.0042\n",
      "Epoch 115/400\n",
      "979/979 [==============================] - 0s 207us/step - loss: 0.0043 - mean_squared_logarithmic_error: 0.0043 - val_loss: 0.0043 - val_mean_squared_logarithmic_error: 0.0043\n",
      "Epoch 116/400\n",
      "979/979 [==============================] - 0s 254us/step - loss: 0.0045 - mean_squared_logarithmic_error: 0.0045 - val_loss: 0.0042 - val_mean_squared_logarithmic_error: 0.0042\n",
      "Epoch 117/400\n",
      "979/979 [==============================] - 0s 284us/step - loss: 0.0044 - mean_squared_logarithmic_error: 0.0044 - val_loss: 0.0038 - val_mean_squared_logarithmic_error: 0.0038\n",
      "Epoch 118/400\n",
      "979/979 [==============================] - 0s 234us/step - loss: 0.0046 - mean_squared_logarithmic_error: 0.0046 - val_loss: 0.0041 - val_mean_squared_logarithmic_error: 0.0041\n",
      "Epoch 119/400\n",
      "979/979 [==============================] - 0s 255us/step - loss: 0.0045 - mean_squared_logarithmic_error: 0.0045 - val_loss: 0.0044 - val_mean_squared_logarithmic_error: 0.0044\n",
      "Epoch 120/400\n",
      "979/979 [==============================] - 0s 240us/step - loss: 0.0045 - mean_squared_logarithmic_error: 0.0045 - val_loss: 0.0039 - val_mean_squared_logarithmic_error: 0.0039\n",
      "Epoch 121/400\n",
      "979/979 [==============================] - 0s 256us/step - loss: 0.0046 - mean_squared_logarithmic_error: 0.0046 - val_loss: 0.0043 - val_mean_squared_logarithmic_error: 0.0043\n",
      "Epoch 122/400\n",
      "979/979 [==============================] - 0s 271us/step - loss: 0.0046 - mean_squared_logarithmic_error: 0.0046 - val_loss: 0.0040 - val_mean_squared_logarithmic_error: 0.0040\n",
      "Epoch 123/400\n",
      "979/979 [==============================] - 0s 244us/step - loss: 0.0044 - mean_squared_logarithmic_error: 0.0044 - val_loss: 0.0040 - val_mean_squared_logarithmic_error: 0.0040\n",
      "Epoch 124/400\n",
      "979/979 [==============================] - 0s 234us/step - loss: 0.0046 - mean_squared_logarithmic_error: 0.0046 - val_loss: 0.0039 - val_mean_squared_logarithmic_error: 0.0039\n",
      "Epoch 125/400\n",
      "979/979 [==============================] - 0s 230us/step - loss: 0.0045 - mean_squared_logarithmic_error: 0.0045 - val_loss: 0.0052 - val_mean_squared_logarithmic_error: 0.0052\n",
      "Epoch 126/400\n",
      "979/979 [==============================] - 0s 231us/step - loss: 0.0046 - mean_squared_logarithmic_error: 0.0046 - val_loss: 0.0041 - val_mean_squared_logarithmic_error: 0.0041\n",
      "Epoch 127/400\n",
      "979/979 [==============================] - 0s 235us/step - loss: 0.0045 - mean_squared_logarithmic_error: 0.0045 - val_loss: 0.0041 - val_mean_squared_logarithmic_error: 0.0041\n",
      "Epoch 128/400\n",
      "979/979 [==============================] - 0s 229us/step - loss: 0.0043 - mean_squared_logarithmic_error: 0.0043 - val_loss: 0.0039 - val_mean_squared_logarithmic_error: 0.0039\n",
      "Epoch 129/400\n",
      "979/979 [==============================] - 0s 232us/step - loss: 0.0044 - mean_squared_logarithmic_error: 0.0044 - val_loss: 0.0039 - val_mean_squared_logarithmic_error: 0.0039\n",
      "Epoch 130/400\n"
     ]
    },
    {
     "name": "stdout",
     "output_type": "stream",
     "text": [
      "979/979 [==============================] - 0s 232us/step - loss: 0.0043 - mean_squared_logarithmic_error: 0.0043 - val_loss: 0.0039 - val_mean_squared_logarithmic_error: 0.0039\n",
      "Epoch 131/400\n",
      "979/979 [==============================] - 0s 234us/step - loss: 0.0043 - mean_squared_logarithmic_error: 0.0043 - val_loss: 0.0040 - val_mean_squared_logarithmic_error: 0.0040\n",
      "Epoch 132/400\n",
      "979/979 [==============================] - 0s 243us/step - loss: 0.0043 - mean_squared_logarithmic_error: 0.0043 - val_loss: 0.0040 - val_mean_squared_logarithmic_error: 0.0040\n",
      "Epoch 133/400\n",
      "979/979 [==============================] - 0s 241us/step - loss: 0.0043 - mean_squared_logarithmic_error: 0.0043 - val_loss: 0.0037 - val_mean_squared_logarithmic_error: 0.0037\n",
      "Epoch 134/400\n",
      "979/979 [==============================] - 0s 251us/step - loss: 0.0044 - mean_squared_logarithmic_error: 0.0044 - val_loss: 0.0038 - val_mean_squared_logarithmic_error: 0.0038\n",
      "Epoch 135/400\n",
      "979/979 [==============================] - 0s 212us/step - loss: 0.0044 - mean_squared_logarithmic_error: 0.0044 - val_loss: 0.0044 - val_mean_squared_logarithmic_error: 0.0044\n",
      "Epoch 136/400\n",
      "979/979 [==============================] - 0s 230us/step - loss: 0.0045 - mean_squared_logarithmic_error: 0.0045 - val_loss: 0.0045 - val_mean_squared_logarithmic_error: 0.0045\n",
      "Epoch 137/400\n",
      "979/979 [==============================] - 0s 238us/step - loss: 0.0045 - mean_squared_logarithmic_error: 0.0045 - val_loss: 0.0041 - val_mean_squared_logarithmic_error: 0.0041\n",
      "Epoch 138/400\n",
      "979/979 [==============================] - 0s 243us/step - loss: 0.0044 - mean_squared_logarithmic_error: 0.0044 - val_loss: 0.0045 - val_mean_squared_logarithmic_error: 0.0045\n",
      "Epoch 139/400\n",
      "979/979 [==============================] - 0s 242us/step - loss: 0.0045 - mean_squared_logarithmic_error: 0.0045 - val_loss: 0.0041 - val_mean_squared_logarithmic_error: 0.0041\n",
      "Epoch 140/400\n",
      "979/979 [==============================] - 0s 235us/step - loss: 0.0046 - mean_squared_logarithmic_error: 0.0046 - val_loss: 0.0038 - val_mean_squared_logarithmic_error: 0.0038\n",
      "Epoch 141/400\n",
      "979/979 [==============================] - 0s 223us/step - loss: 0.0044 - mean_squared_logarithmic_error: 0.0044 - val_loss: 0.0046 - val_mean_squared_logarithmic_error: 0.0046\n",
      "Epoch 142/400\n",
      "979/979 [==============================] - 0s 227us/step - loss: 0.0045 - mean_squared_logarithmic_error: 0.0045 - val_loss: 0.0036 - val_mean_squared_logarithmic_error: 0.0036\n",
      "Epoch 143/400\n",
      "979/979 [==============================] - 0s 236us/step - loss: 0.0045 - mean_squared_logarithmic_error: 0.0045 - val_loss: 0.0039 - val_mean_squared_logarithmic_error: 0.0039\n",
      "Epoch 144/400\n",
      "979/979 [==============================] - 0s 239us/step - loss: 0.0045 - mean_squared_logarithmic_error: 0.0045 - val_loss: 0.0039 - val_mean_squared_logarithmic_error: 0.0039\n",
      "Epoch 145/400\n",
      "979/979 [==============================] - 0s 259us/step - loss: 0.0043 - mean_squared_logarithmic_error: 0.0043 - val_loss: 0.0044 - val_mean_squared_logarithmic_error: 0.0044\n",
      "Epoch 146/400\n",
      "979/979 [==============================] - 0s 236us/step - loss: 0.0045 - mean_squared_logarithmic_error: 0.0045 - val_loss: 0.0041 - val_mean_squared_logarithmic_error: 0.0041\n",
      "Epoch 147/400\n",
      "979/979 [==============================] - 0s 239us/step - loss: 0.0045 - mean_squared_logarithmic_error: 0.0045 - val_loss: 0.0037 - val_mean_squared_logarithmic_error: 0.0037\n",
      "Epoch 148/400\n",
      "979/979 [==============================] - 0s 233us/step - loss: 0.0044 - mean_squared_logarithmic_error: 0.0044 - val_loss: 0.0041 - val_mean_squared_logarithmic_error: 0.0041\n",
      "Epoch 149/400\n",
      "979/979 [==============================] - 0s 237us/step - loss: 0.0043 - mean_squared_logarithmic_error: 0.0043 - val_loss: 0.0038 - val_mean_squared_logarithmic_error: 0.0038\n",
      "Epoch 150/400\n",
      "979/979 [==============================] - 0s 217us/step - loss: 0.0045 - mean_squared_logarithmic_error: 0.0045 - val_loss: 0.0039 - val_mean_squared_logarithmic_error: 0.0039\n",
      "Epoch 151/400\n",
      "979/979 [==============================] - 0s 290us/step - loss: 0.0044 - mean_squared_logarithmic_error: 0.0044 - val_loss: 0.0036 - val_mean_squared_logarithmic_error: 0.0036\n",
      "Epoch 152/400\n",
      "979/979 [==============================] - 0s 226us/step - loss: 0.0046 - mean_squared_logarithmic_error: 0.0046 - val_loss: 0.0040 - val_mean_squared_logarithmic_error: 0.0040\n",
      "Epoch 153/400\n",
      "979/979 [==============================] - 0s 238us/step - loss: 0.0043 - mean_squared_logarithmic_error: 0.0043 - val_loss: 0.0049 - val_mean_squared_logarithmic_error: 0.0049\n",
      "Epoch 154/400\n",
      "979/979 [==============================] - 0s 235us/step - loss: 0.0044 - mean_squared_logarithmic_error: 0.0044 - val_loss: 0.0039 - val_mean_squared_logarithmic_error: 0.0039\n",
      "Epoch 155/400\n",
      "979/979 [==============================] - 0s 228us/step - loss: 0.0044 - mean_squared_logarithmic_error: 0.0044 - val_loss: 0.0047 - val_mean_squared_logarithmic_error: 0.0047\n",
      "Epoch 156/400\n",
      "979/979 [==============================] - 0s 226us/step - loss: 0.0044 - mean_squared_logarithmic_error: 0.0044 - val_loss: 0.0039 - val_mean_squared_logarithmic_error: 0.0039\n",
      "Epoch 157/400\n",
      "979/979 [==============================] - 0s 238us/step - loss: 0.0042 - mean_squared_logarithmic_error: 0.0042 - val_loss: 0.0037 - val_mean_squared_logarithmic_error: 0.0037\n",
      "Epoch 158/400\n",
      "979/979 [==============================] - 0s 232us/step - loss: 0.0043 - mean_squared_logarithmic_error: 0.0043 - val_loss: 0.0040 - val_mean_squared_logarithmic_error: 0.0040\n",
      "Epoch 159/400\n",
      "979/979 [==============================] - 0s 278us/step - loss: 0.0044 - mean_squared_logarithmic_error: 0.0044 - val_loss: 0.0039 - val_mean_squared_logarithmic_error: 0.0039\n",
      "Epoch 160/400\n",
      "979/979 [==============================] - 0s 247us/step - loss: 0.0042 - mean_squared_logarithmic_error: 0.0042 - val_loss: 0.0037 - val_mean_squared_logarithmic_error: 0.0037\n",
      "Epoch 161/400\n",
      "979/979 [==============================] - 0s 227us/step - loss: 0.0044 - mean_squared_logarithmic_error: 0.0044 - val_loss: 0.0039 - val_mean_squared_logarithmic_error: 0.0039\n",
      "Epoch 162/400\n",
      "979/979 [==============================] - 0s 224us/step - loss: 0.0045 - mean_squared_logarithmic_error: 0.0045 - val_loss: 0.0038 - val_mean_squared_logarithmic_error: 0.0038\n",
      "Epoch 163/400\n",
      "979/979 [==============================] - 0s 247us/step - loss: 0.0044 - mean_squared_logarithmic_error: 0.0044 - val_loss: 0.0041 - val_mean_squared_logarithmic_error: 0.0041\n",
      "Epoch 164/400\n",
      "979/979 [==============================] - 0s 216us/step - loss: 0.0043 - mean_squared_logarithmic_error: 0.0043 - val_loss: 0.0038 - val_mean_squared_logarithmic_error: 0.0038\n",
      "Epoch 165/400\n",
      "979/979 [==============================] - 0s 210us/step - loss: 0.0043 - mean_squared_logarithmic_error: 0.0043 - val_loss: 0.0046 - val_mean_squared_logarithmic_error: 0.0046\n",
      "Epoch 166/400\n",
      "979/979 [==============================] - 0s 213us/step - loss: 0.0046 - mean_squared_logarithmic_error: 0.0046 - val_loss: 0.0040 - val_mean_squared_logarithmic_error: 0.0040\n",
      "Epoch 167/400\n",
      "979/979 [==============================] - 0s 220us/step - loss: 0.0044 - mean_squared_logarithmic_error: 0.0044 - val_loss: 0.0038 - val_mean_squared_logarithmic_error: 0.0038\n",
      "Epoch 168/400\n",
      "979/979 [==============================] - 0s 213us/step - loss: 0.0044 - mean_squared_logarithmic_error: 0.0044 - val_loss: 0.0039 - val_mean_squared_logarithmic_error: 0.0039\n",
      "Epoch 169/400\n",
      "979/979 [==============================] - 0s 207us/step - loss: 0.0045 - mean_squared_logarithmic_error: 0.0045 - val_loss: 0.0043 - val_mean_squared_logarithmic_error: 0.0043\n",
      "Epoch 170/400\n",
      "979/979 [==============================] - 0s 208us/step - loss: 0.0042 - mean_squared_logarithmic_error: 0.0042 - val_loss: 0.0045 - val_mean_squared_logarithmic_error: 0.0045\n",
      "Epoch 171/400\n",
      "979/979 [==============================] - 0s 211us/step - loss: 0.0041 - mean_squared_logarithmic_error: 0.0041 - val_loss: 0.0039 - val_mean_squared_logarithmic_error: 0.0039\n",
      "Epoch 172/400\n",
      "979/979 [==============================] - 0s 208us/step - loss: 0.0044 - mean_squared_logarithmic_error: 0.0044 - val_loss: 0.0048 - val_mean_squared_logarithmic_error: 0.0048\n"
     ]
    },
    {
     "name": "stdout",
     "output_type": "stream",
     "text": [
      "Epoch 173/400\n",
      "979/979 [==============================] - 0s 226us/step - loss: 0.0042 - mean_squared_logarithmic_error: 0.0042 - val_loss: 0.0041 - val_mean_squared_logarithmic_error: 0.0041\n",
      "Epoch 174/400\n",
      "979/979 [==============================] - 0s 221us/step - loss: 0.0044 - mean_squared_logarithmic_error: 0.0044 - val_loss: 0.0040 - val_mean_squared_logarithmic_error: 0.0040\n",
      "Epoch 175/400\n",
      "979/979 [==============================] - 0s 211us/step - loss: 0.0043 - mean_squared_logarithmic_error: 0.0043 - val_loss: 0.0039 - val_mean_squared_logarithmic_error: 0.0039\n",
      "Epoch 176/400\n",
      "979/979 [==============================] - 0s 244us/step - loss: 0.0044 - mean_squared_logarithmic_error: 0.0044 - val_loss: 0.0036 - val_mean_squared_logarithmic_error: 0.0036\n",
      "Epoch 177/400\n",
      "979/979 [==============================] - 0s 213us/step - loss: 0.0045 - mean_squared_logarithmic_error: 0.0045 - val_loss: 0.0039 - val_mean_squared_logarithmic_error: 0.0039\n",
      "Epoch 178/400\n",
      "979/979 [==============================] - 0s 216us/step - loss: 0.0044 - mean_squared_logarithmic_error: 0.0044 - val_loss: 0.0039 - val_mean_squared_logarithmic_error: 0.0039\n",
      "Epoch 179/400\n",
      "979/979 [==============================] - 0s 224us/step - loss: 0.0043 - mean_squared_logarithmic_error: 0.0043 - val_loss: 0.0041 - val_mean_squared_logarithmic_error: 0.0041\n",
      "Epoch 180/400\n",
      "979/979 [==============================] - 0s 221us/step - loss: 0.0044 - mean_squared_logarithmic_error: 0.0044 - val_loss: 0.0039 - val_mean_squared_logarithmic_error: 0.0039\n",
      "Epoch 181/400\n",
      "979/979 [==============================] - 0s 209us/step - loss: 0.0046 - mean_squared_logarithmic_error: 0.0046 - val_loss: 0.0036 - val_mean_squared_logarithmic_error: 0.0036\n",
      "Epoch 182/400\n",
      "979/979 [==============================] - 0s 209us/step - loss: 0.0043 - mean_squared_logarithmic_error: 0.0043 - val_loss: 0.0041 - val_mean_squared_logarithmic_error: 0.0041\n",
      "Epoch 183/400\n",
      "979/979 [==============================] - 0s 206us/step - loss: 0.0045 - mean_squared_logarithmic_error: 0.0045 - val_loss: 0.0038 - val_mean_squared_logarithmic_error: 0.0038\n",
      "Epoch 184/400\n",
      "979/979 [==============================] - 0s 207us/step - loss: 0.0042 - mean_squared_logarithmic_error: 0.0042 - val_loss: 0.0041 - val_mean_squared_logarithmic_error: 0.0041\n",
      "Epoch 185/400\n",
      "979/979 [==============================] - 0s 209us/step - loss: 0.0044 - mean_squared_logarithmic_error: 0.0044 - val_loss: 0.0037 - val_mean_squared_logarithmic_error: 0.0037\n",
      "Epoch 186/400\n",
      "979/979 [==============================] - 0s 207us/step - loss: 0.0043 - mean_squared_logarithmic_error: 0.0043 - val_loss: 0.0039 - val_mean_squared_logarithmic_error: 0.0039\n",
      "Epoch 187/400\n",
      "979/979 [==============================] - 0s 208us/step - loss: 0.0044 - mean_squared_logarithmic_error: 0.0044 - val_loss: 0.0037 - val_mean_squared_logarithmic_error: 0.0037\n",
      "Epoch 188/400\n",
      "979/979 [==============================] - 0s 209us/step - loss: 0.0043 - mean_squared_logarithmic_error: 0.0043 - val_loss: 0.0045 - val_mean_squared_logarithmic_error: 0.0045\n",
      "Epoch 189/400\n",
      "979/979 [==============================] - 0s 223us/step - loss: 0.0044 - mean_squared_logarithmic_error: 0.0044 - val_loss: 0.0037 - val_mean_squared_logarithmic_error: 0.0037\n",
      "Epoch 190/400\n",
      "979/979 [==============================] - 0s 227us/step - loss: 0.0042 - mean_squared_logarithmic_error: 0.0042 - val_loss: 0.0040 - val_mean_squared_logarithmic_error: 0.0040\n",
      "Epoch 191/400\n",
      "979/979 [==============================] - 0s 209us/step - loss: 0.0045 - mean_squared_logarithmic_error: 0.0045 - val_loss: 0.0039 - val_mean_squared_logarithmic_error: 0.0039\n",
      "Epoch 192/400\n",
      "979/979 [==============================] - 0s 206us/step - loss: 0.0044 - mean_squared_logarithmic_error: 0.0044 - val_loss: 0.0038 - val_mean_squared_logarithmic_error: 0.0038\n",
      "Epoch 193/400\n",
      "979/979 [==============================] - 0s 206us/step - loss: 0.0042 - mean_squared_logarithmic_error: 0.0042 - val_loss: 0.0039 - val_mean_squared_logarithmic_error: 0.0039\n",
      "Epoch 194/400\n",
      "979/979 [==============================] - 0s 208us/step - loss: 0.0043 - mean_squared_logarithmic_error: 0.0043 - val_loss: 0.0037 - val_mean_squared_logarithmic_error: 0.0037\n",
      "Epoch 195/400\n",
      "979/979 [==============================] - 0s 220us/step - loss: 0.0042 - mean_squared_logarithmic_error: 0.0042 - val_loss: 0.0037 - val_mean_squared_logarithmic_error: 0.0037\n",
      "Epoch 196/400\n",
      "979/979 [==============================] - 0s 228us/step - loss: 0.0044 - mean_squared_logarithmic_error: 0.0044 - val_loss: 0.0039 - val_mean_squared_logarithmic_error: 0.0039\n",
      "Epoch 197/400\n",
      "979/979 [==============================] - 0s 213us/step - loss: 0.0043 - mean_squared_logarithmic_error: 0.0043 - val_loss: 0.0041 - val_mean_squared_logarithmic_error: 0.0041\n",
      "Epoch 198/400\n",
      "979/979 [==============================] - 0s 206us/step - loss: 0.0042 - mean_squared_logarithmic_error: 0.0042 - val_loss: 0.0036 - val_mean_squared_logarithmic_error: 0.0036\n",
      "Epoch 199/400\n",
      "979/979 [==============================] - 0s 204us/step - loss: 0.0044 - mean_squared_logarithmic_error: 0.0044 - val_loss: 0.0036 - val_mean_squared_logarithmic_error: 0.0036\n",
      "Epoch 200/400\n",
      "979/979 [==============================] - 0s 206us/step - loss: 0.0043 - mean_squared_logarithmic_error: 0.0043 - val_loss: 0.0038 - val_mean_squared_logarithmic_error: 0.0038\n",
      "Epoch 201/400\n",
      "979/979 [==============================] - 0s 206us/step - loss: 0.0044 - mean_squared_logarithmic_error: 0.0044 - val_loss: 0.0037 - val_mean_squared_logarithmic_error: 0.0037\n",
      "Epoch 202/400\n",
      "979/979 [==============================] - 0s 219us/step - loss: 0.0044 - mean_squared_logarithmic_error: 0.0044 - val_loss: 0.0036 - val_mean_squared_logarithmic_error: 0.0036\n",
      "Epoch 203/400\n",
      "979/979 [==============================] - 0s 232us/step - loss: 0.0041 - mean_squared_logarithmic_error: 0.0041 - val_loss: 0.0042 - val_mean_squared_logarithmic_error: 0.0042\n",
      "Epoch 204/400\n",
      "979/979 [==============================] - 0s 211us/step - loss: 0.0043 - mean_squared_logarithmic_error: 0.0043 - val_loss: 0.0039 - val_mean_squared_logarithmic_error: 0.0039\n",
      "Epoch 205/400\n",
      "979/979 [==============================] - 0s 206us/step - loss: 0.0044 - mean_squared_logarithmic_error: 0.0044 - val_loss: 0.0041 - val_mean_squared_logarithmic_error: 0.0041\n",
      "Epoch 206/400\n",
      "979/979 [==============================] - 0s 228us/step - loss: 0.0042 - mean_squared_logarithmic_error: 0.0042 - val_loss: 0.0038 - val_mean_squared_logarithmic_error: 0.0038\n",
      "Epoch 207/400\n",
      "979/979 [==============================] - 0s 234us/step - loss: 0.0042 - mean_squared_logarithmic_error: 0.0042 - val_loss: 0.0037 - val_mean_squared_logarithmic_error: 0.0037\n",
      "Epoch 208/400\n",
      "979/979 [==============================] - 0s 228us/step - loss: 0.0043 - mean_squared_logarithmic_error: 0.0043 - val_loss: 0.0039 - val_mean_squared_logarithmic_error: 0.0039\n",
      "Epoch 209/400\n",
      "979/979 [==============================] - 0s 230us/step - loss: 0.0044 - mean_squared_logarithmic_error: 0.0044 - val_loss: 0.0037 - val_mean_squared_logarithmic_error: 0.0037\n",
      "Epoch 210/400\n",
      "979/979 [==============================] - 0s 228us/step - loss: 0.0041 - mean_squared_logarithmic_error: 0.0041 - val_loss: 0.0035 - val_mean_squared_logarithmic_error: 0.0035\n",
      "Epoch 211/400\n",
      "979/979 [==============================] - 0s 230us/step - loss: 0.0041 - mean_squared_logarithmic_error: 0.0041 - val_loss: 0.0039 - val_mean_squared_logarithmic_error: 0.0039\n",
      "Epoch 212/400\n",
      "979/979 [==============================] - 0s 217us/step - loss: 0.0042 - mean_squared_logarithmic_error: 0.0042 - val_loss: 0.0036 - val_mean_squared_logarithmic_error: 0.0036\n",
      "Epoch 213/400\n",
      "979/979 [==============================] - 0s 209us/step - loss: 0.0044 - mean_squared_logarithmic_error: 0.0044 - val_loss: 0.0037 - val_mean_squared_logarithmic_error: 0.0037\n",
      "Epoch 214/400\n",
      "979/979 [==============================] - 0s 209us/step - loss: 0.0041 - mean_squared_logarithmic_error: 0.0041 - val_loss: 0.0042 - val_mean_squared_logarithmic_error: 0.0042\n",
      "Epoch 215/400\n",
      "979/979 [==============================] - 0s 223us/step - loss: 0.0042 - mean_squared_logarithmic_error: 0.0042 - val_loss: 0.0038 - val_mean_squared_logarithmic_error: 0.0038\n"
     ]
    },
    {
     "name": "stdout",
     "output_type": "stream",
     "text": [
      "Epoch 216/400\n",
      "979/979 [==============================] - 0s 220us/step - loss: 0.0042 - mean_squared_logarithmic_error: 0.0042 - val_loss: 0.0046 - val_mean_squared_logarithmic_error: 0.0046\n",
      "Epoch 217/400\n",
      "979/979 [==============================] - 0s 208us/step - loss: 0.0044 - mean_squared_logarithmic_error: 0.0044 - val_loss: 0.0062 - val_mean_squared_logarithmic_error: 0.0062\n",
      "Epoch 218/400\n",
      "979/979 [==============================] - 0s 209us/step - loss: 0.0041 - mean_squared_logarithmic_error: 0.0041 - val_loss: 0.0039 - val_mean_squared_logarithmic_error: 0.0039\n",
      "Epoch 219/400\n",
      "979/979 [==============================] - 0s 207us/step - loss: 0.0040 - mean_squared_logarithmic_error: 0.0040 - val_loss: 0.0039 - val_mean_squared_logarithmic_error: 0.0039\n",
      "Epoch 220/400\n",
      "979/979 [==============================] - 0s 209us/step - loss: 0.0040 - mean_squared_logarithmic_error: 0.0040 - val_loss: 0.0039 - val_mean_squared_logarithmic_error: 0.0039\n",
      "Epoch 221/400\n",
      "979/979 [==============================] - 0s 208us/step - loss: 0.0043 - mean_squared_logarithmic_error: 0.0043 - val_loss: 0.0042 - val_mean_squared_logarithmic_error: 0.0042\n",
      "Epoch 222/400\n",
      "979/979 [==============================] - 0s 207us/step - loss: 0.0044 - mean_squared_logarithmic_error: 0.0044 - val_loss: 0.0041 - val_mean_squared_logarithmic_error: 0.0041\n",
      "Epoch 223/400\n",
      "979/979 [==============================] - 0s 217us/step - loss: 0.0043 - mean_squared_logarithmic_error: 0.0043 - val_loss: 0.0036 - val_mean_squared_logarithmic_error: 0.0036\n",
      "Epoch 224/400\n",
      "979/979 [==============================] - 0s 248us/step - loss: 0.0043 - mean_squared_logarithmic_error: 0.0043 - val_loss: 0.0038 - val_mean_squared_logarithmic_error: 0.0038\n",
      "Epoch 225/400\n",
      "979/979 [==============================] - 0s 229us/step - loss: 0.0042 - mean_squared_logarithmic_error: 0.0042 - val_loss: 0.0044 - val_mean_squared_logarithmic_error: 0.0044\n",
      "Epoch 226/400\n",
      "979/979 [==============================] - 0s 222us/step - loss: 0.0042 - mean_squared_logarithmic_error: 0.0042 - val_loss: 0.0069 - val_mean_squared_logarithmic_error: 0.0069\n",
      "Epoch 227/400\n",
      "979/979 [==============================] - 0s 228us/step - loss: 0.0043 - mean_squared_logarithmic_error: 0.0043 - val_loss: 0.0040 - val_mean_squared_logarithmic_error: 0.0040\n",
      "Epoch 228/400\n",
      "979/979 [==============================] - 0s 215us/step - loss: 0.0042 - mean_squared_logarithmic_error: 0.0042 - val_loss: 0.0038 - val_mean_squared_logarithmic_error: 0.0038\n",
      "Epoch 229/400\n",
      "979/979 [==============================] - 0s 211us/step - loss: 0.0043 - mean_squared_logarithmic_error: 0.0043 - val_loss: 0.0046 - val_mean_squared_logarithmic_error: 0.0046\n",
      "Epoch 230/400\n",
      "979/979 [==============================] - 0s 212us/step - loss: 0.0041 - mean_squared_logarithmic_error: 0.0041 - val_loss: 0.0038 - val_mean_squared_logarithmic_error: 0.0038\n",
      "Epoch 231/400\n",
      "979/979 [==============================] - 0s 212us/step - loss: 0.0042 - mean_squared_logarithmic_error: 0.0042 - val_loss: 0.0038 - val_mean_squared_logarithmic_error: 0.0038\n",
      "Epoch 232/400\n",
      "979/979 [==============================] - 0s 212us/step - loss: 0.0040 - mean_squared_logarithmic_error: 0.0040 - val_loss: 0.0052 - val_mean_squared_logarithmic_error: 0.0052\n",
      "Epoch 233/400\n",
      "979/979 [==============================] - 0s 221us/step - loss: 0.0043 - mean_squared_logarithmic_error: 0.0043 - val_loss: 0.0040 - val_mean_squared_logarithmic_error: 0.0040\n",
      "Epoch 234/400\n",
      "979/979 [==============================] - 0s 235us/step - loss: 0.0040 - mean_squared_logarithmic_error: 0.0040 - val_loss: 0.0035 - val_mean_squared_logarithmic_error: 0.0035\n",
      "Epoch 235/400\n",
      "979/979 [==============================] - 0s 216us/step - loss: 0.0043 - mean_squared_logarithmic_error: 0.0043 - val_loss: 0.0037 - val_mean_squared_logarithmic_error: 0.0037\n",
      "Epoch 236/400\n",
      "979/979 [==============================] - 0s 210us/step - loss: 0.0041 - mean_squared_logarithmic_error: 0.0041 - val_loss: 0.0040 - val_mean_squared_logarithmic_error: 0.0040\n",
      "Epoch 237/400\n",
      "979/979 [==============================] - 0s 207us/step - loss: 0.0039 - mean_squared_logarithmic_error: 0.0039 - val_loss: 0.0036 - val_mean_squared_logarithmic_error: 0.0036\n",
      "Epoch 238/400\n",
      "979/979 [==============================] - 0s 206us/step - loss: 0.0043 - mean_squared_logarithmic_error: 0.0043 - val_loss: 0.0043 - val_mean_squared_logarithmic_error: 0.0043\n",
      "Epoch 239/400\n",
      "979/979 [==============================] - 0s 208us/step - loss: 0.0041 - mean_squared_logarithmic_error: 0.0041 - val_loss: 0.0034 - val_mean_squared_logarithmic_error: 0.0034\n",
      "Epoch 240/400\n",
      "979/979 [==============================] - 0s 227us/step - loss: 0.0042 - mean_squared_logarithmic_error: 0.0042 - val_loss: 0.0034 - val_mean_squared_logarithmic_error: 0.0034\n",
      "Epoch 241/400\n",
      "979/979 [==============================] - 0s 229us/step - loss: 0.0041 - mean_squared_logarithmic_error: 0.0041 - val_loss: 0.0033 - val_mean_squared_logarithmic_error: 0.0033\n",
      "Epoch 242/400\n",
      "979/979 [==============================] - 0s 226us/step - loss: 0.0041 - mean_squared_logarithmic_error: 0.0041 - val_loss: 0.0035 - val_mean_squared_logarithmic_error: 0.0035\n",
      "Epoch 243/400\n",
      "979/979 [==============================] - 0s 220us/step - loss: 0.0041 - mean_squared_logarithmic_error: 0.0041 - val_loss: 0.0037 - val_mean_squared_logarithmic_error: 0.0037\n",
      "Epoch 244/400\n",
      "979/979 [==============================] - 0s 216us/step - loss: 0.0042 - mean_squared_logarithmic_error: 0.0042 - val_loss: 0.0044 - val_mean_squared_logarithmic_error: 0.0044\n",
      "Epoch 245/400\n",
      "979/979 [==============================] - 0s 239us/step - loss: 0.0041 - mean_squared_logarithmic_error: 0.0041 - val_loss: 0.0039 - val_mean_squared_logarithmic_error: 0.0039\n",
      "Epoch 246/400\n",
      "979/979 [==============================] - 0s 236us/step - loss: 0.0041 - mean_squared_logarithmic_error: 0.0041 - val_loss: 0.0041 - val_mean_squared_logarithmic_error: 0.0041\n",
      "Epoch 247/400\n",
      "979/979 [==============================] - 0s 226us/step - loss: 0.0041 - mean_squared_logarithmic_error: 0.0041 - val_loss: 0.0035 - val_mean_squared_logarithmic_error: 0.0035\n",
      "Epoch 248/400\n",
      "979/979 [==============================] - 0s 227us/step - loss: 0.0042 - mean_squared_logarithmic_error: 0.0042 - val_loss: 0.0038 - val_mean_squared_logarithmic_error: 0.0038\n",
      "Epoch 249/400\n",
      "979/979 [==============================] - 0s 230us/step - loss: 0.0040 - mean_squared_logarithmic_error: 0.0040 - val_loss: 0.0045 - val_mean_squared_logarithmic_error: 0.0045\n",
      "Epoch 250/400\n",
      "979/979 [==============================] - 0s 230us/step - loss: 0.0041 - mean_squared_logarithmic_error: 0.0041 - val_loss: 0.0037 - val_mean_squared_logarithmic_error: 0.0037\n",
      "Epoch 251/400\n",
      "979/979 [==============================] - 0s 233us/step - loss: 0.0041 - mean_squared_logarithmic_error: 0.0041 - val_loss: 0.0046 - val_mean_squared_logarithmic_error: 0.0046\n",
      "Epoch 252/400\n",
      "979/979 [==============================] - 0s 221us/step - loss: 0.0041 - mean_squared_logarithmic_error: 0.0041 - val_loss: 0.0036 - val_mean_squared_logarithmic_error: 0.0036\n",
      "Epoch 253/400\n",
      "979/979 [==============================] - 0s 224us/step - loss: 0.0041 - mean_squared_logarithmic_error: 0.0041 - val_loss: 0.0039 - val_mean_squared_logarithmic_error: 0.0039\n",
      "Epoch 254/400\n",
      "979/979 [==============================] - 0s 235us/step - loss: 0.0039 - mean_squared_logarithmic_error: 0.0039 - val_loss: 0.0034 - val_mean_squared_logarithmic_error: 0.0034\n",
      "Epoch 255/400\n",
      "979/979 [==============================] - 0s 223us/step - loss: 0.0040 - mean_squared_logarithmic_error: 0.0040 - val_loss: 0.0044 - val_mean_squared_logarithmic_error: 0.0044\n",
      "Epoch 256/400\n",
      "979/979 [==============================] - 0s 238us/step - loss: 0.0041 - mean_squared_logarithmic_error: 0.0041 - val_loss: 0.0033 - val_mean_squared_logarithmic_error: 0.0033\n",
      "Epoch 257/400\n",
      "979/979 [==============================] - 0s 231us/step - loss: 0.0039 - mean_squared_logarithmic_error: 0.0039 - val_loss: 0.0043 - val_mean_squared_logarithmic_error: 0.0043\n",
      "Epoch 258/400\n",
      "979/979 [==============================] - 0s 228us/step - loss: 0.0044 - mean_squared_logarithmic_error: 0.0044 - val_loss: 0.0038 - val_mean_squared_logarithmic_error: 0.0038\n"
     ]
    },
    {
     "name": "stdout",
     "output_type": "stream",
     "text": [
      "Epoch 259/400\n",
      "979/979 [==============================] - 0s 220us/step - loss: 0.0040 - mean_squared_logarithmic_error: 0.0040 - val_loss: 0.0034 - val_mean_squared_logarithmic_error: 0.0034\n",
      "Epoch 260/400\n",
      "979/979 [==============================] - 0s 231us/step - loss: 0.0040 - mean_squared_logarithmic_error: 0.0040 - val_loss: 0.0033 - val_mean_squared_logarithmic_error: 0.0033\n",
      "Epoch 261/400\n",
      "979/979 [==============================] - 0s 227us/step - loss: 0.0041 - mean_squared_logarithmic_error: 0.0041 - val_loss: 0.0040 - val_mean_squared_logarithmic_error: 0.0040\n",
      "Epoch 262/400\n",
      "979/979 [==============================] - 0s 225us/step - loss: 0.0041 - mean_squared_logarithmic_error: 0.0041 - val_loss: 0.0047 - val_mean_squared_logarithmic_error: 0.0047\n",
      "Epoch 263/400\n",
      "979/979 [==============================] - 0s 231us/step - loss: 0.0040 - mean_squared_logarithmic_error: 0.0040 - val_loss: 0.0036 - val_mean_squared_logarithmic_error: 0.0036\n",
      "Epoch 264/400\n",
      "979/979 [==============================] - 0s 227us/step - loss: 0.0039 - mean_squared_logarithmic_error: 0.0039 - val_loss: 0.0037 - val_mean_squared_logarithmic_error: 0.0037\n",
      "Epoch 265/400\n",
      "979/979 [==============================] - 0s 215us/step - loss: 0.0041 - mean_squared_logarithmic_error: 0.0041 - val_loss: 0.0038 - val_mean_squared_logarithmic_error: 0.0038\n",
      "Epoch 266/400\n",
      "979/979 [==============================] - 0s 218us/step - loss: 0.0043 - mean_squared_logarithmic_error: 0.0043 - val_loss: 0.0035 - val_mean_squared_logarithmic_error: 0.0035\n",
      "Epoch 267/400\n",
      "979/979 [==============================] - 0s 240us/step - loss: 0.0039 - mean_squared_logarithmic_error: 0.0039 - val_loss: 0.0034 - val_mean_squared_logarithmic_error: 0.0034\n",
      "Epoch 268/400\n",
      "979/979 [==============================] - 0s 218us/step - loss: 0.0040 - mean_squared_logarithmic_error: 0.0040 - val_loss: 0.0033 - val_mean_squared_logarithmic_error: 0.0033\n",
      "Epoch 269/400\n",
      "979/979 [==============================] - 0s 223us/step - loss: 0.0041 - mean_squared_logarithmic_error: 0.0041 - val_loss: 0.0034 - val_mean_squared_logarithmic_error: 0.0034\n",
      "Epoch 270/400\n",
      "979/979 [==============================] - 0s 255us/step - loss: 0.0039 - mean_squared_logarithmic_error: 0.0039 - val_loss: 0.0034 - val_mean_squared_logarithmic_error: 0.0034\n",
      "Epoch 271/400\n",
      "979/979 [==============================] - 0s 271us/step - loss: 0.0038 - mean_squared_logarithmic_error: 0.0038 - val_loss: 0.0037 - val_mean_squared_logarithmic_error: 0.0037\n",
      "Epoch 272/400\n",
      "979/979 [==============================] - 0s 266us/step - loss: 0.0043 - mean_squared_logarithmic_error: 0.0043 - val_loss: 0.0047 - val_mean_squared_logarithmic_error: 0.0047\n",
      "Epoch 273/400\n",
      "979/979 [==============================] - 0s 305us/step - loss: 0.0042 - mean_squared_logarithmic_error: 0.0042 - val_loss: 0.0048 - val_mean_squared_logarithmic_error: 0.0048\n",
      "Epoch 274/400\n",
      "979/979 [==============================] - 0s 355us/step - loss: 0.0041 - mean_squared_logarithmic_error: 0.0041 - val_loss: 0.0034 - val_mean_squared_logarithmic_error: 0.0034\n",
      "Epoch 275/400\n",
      "979/979 [==============================] - 0s 291us/step - loss: 0.0041 - mean_squared_logarithmic_error: 0.0041 - val_loss: 0.0037 - val_mean_squared_logarithmic_error: 0.0037\n",
      "Epoch 276/400\n",
      "979/979 [==============================] - 0s 254us/step - loss: 0.0040 - mean_squared_logarithmic_error: 0.0040 - val_loss: 0.0036 - val_mean_squared_logarithmic_error: 0.0036\n",
      "Epoch 277/400\n",
      "979/979 [==============================] - 0s 239us/step - loss: 0.0038 - mean_squared_logarithmic_error: 0.0038 - val_loss: 0.0036 - val_mean_squared_logarithmic_error: 0.0036\n",
      "Epoch 278/400\n",
      "979/979 [==============================] - 0s 247us/step - loss: 0.0041 - mean_squared_logarithmic_error: 0.0041 - val_loss: 0.0037 - val_mean_squared_logarithmic_error: 0.0037\n",
      "Epoch 279/400\n",
      "979/979 [==============================] - 0s 253us/step - loss: 0.0043 - mean_squared_logarithmic_error: 0.0043 - val_loss: 0.0034 - val_mean_squared_logarithmic_error: 0.0034\n",
      "Epoch 280/400\n",
      "979/979 [==============================] - 0s 243us/step - loss: 0.0040 - mean_squared_logarithmic_error: 0.0040 - val_loss: 0.0035 - val_mean_squared_logarithmic_error: 0.0035\n",
      "Epoch 281/400\n",
      "979/979 [==============================] - 0s 254us/step - loss: 0.0040 - mean_squared_logarithmic_error: 0.0040 - val_loss: 0.0040 - val_mean_squared_logarithmic_error: 0.0040\n",
      "Epoch 282/400\n",
      "979/979 [==============================] - 0s 263us/step - loss: 0.0039 - mean_squared_logarithmic_error: 0.0039 - val_loss: 0.0035 - val_mean_squared_logarithmic_error: 0.0035\n",
      "Epoch 283/400\n",
      "979/979 [==============================] - 0s 249us/step - loss: 0.0039 - mean_squared_logarithmic_error: 0.0039 - val_loss: 0.0037 - val_mean_squared_logarithmic_error: 0.0037\n",
      "Epoch 284/400\n",
      "979/979 [==============================] - 0s 257us/step - loss: 0.0040 - mean_squared_logarithmic_error: 0.0040 - val_loss: 0.0037 - val_mean_squared_logarithmic_error: 0.0037\n",
      "Epoch 285/400\n",
      "979/979 [==============================] - 0s 279us/step - loss: 0.0042 - mean_squared_logarithmic_error: 0.0042 - val_loss: 0.0036 - val_mean_squared_logarithmic_error: 0.0036\n",
      "Epoch 286/400\n",
      "979/979 [==============================] - 0s 263us/step - loss: 0.0041 - mean_squared_logarithmic_error: 0.0041 - val_loss: 0.0038 - val_mean_squared_logarithmic_error: 0.0038\n",
      "Epoch 287/400\n",
      "979/979 [==============================] - 0s 269us/step - loss: 0.0041 - mean_squared_logarithmic_error: 0.0041 - val_loss: 0.0039 - val_mean_squared_logarithmic_error: 0.0039\n",
      "Epoch 288/400\n",
      "979/979 [==============================] - 0s 330us/step - loss: 0.0040 - mean_squared_logarithmic_error: 0.0040 - val_loss: 0.0040 - val_mean_squared_logarithmic_error: 0.0040\n",
      "Epoch 289/400\n",
      "979/979 [==============================] - 0s 340us/step - loss: 0.0041 - mean_squared_logarithmic_error: 0.0041 - val_loss: 0.0038 - val_mean_squared_logarithmic_error: 0.0038\n",
      "Epoch 290/400\n",
      "979/979 [==============================] - 0s 268us/step - loss: 0.0040 - mean_squared_logarithmic_error: 0.0040 - val_loss: 0.0044 - val_mean_squared_logarithmic_error: 0.0044\n",
      "Epoch 291/400\n",
      "979/979 [==============================] - 0s 262us/step - loss: 0.0040 - mean_squared_logarithmic_error: 0.0040 - val_loss: 0.0046 - val_mean_squared_logarithmic_error: 0.0046\n",
      "Epoch 292/400\n",
      "979/979 [==============================] - 0s 255us/step - loss: 0.0040 - mean_squared_logarithmic_error: 0.0040 - val_loss: 0.0035 - val_mean_squared_logarithmic_error: 0.0035\n",
      "Epoch 293/400\n",
      "979/979 [==============================] - 0s 243us/step - loss: 0.0042 - mean_squared_logarithmic_error: 0.0042 - val_loss: 0.0040 - val_mean_squared_logarithmic_error: 0.0040\n",
      "Epoch 294/400\n",
      "979/979 [==============================] - 0s 239us/step - loss: 0.0039 - mean_squared_logarithmic_error: 0.0039 - val_loss: 0.0042 - val_mean_squared_logarithmic_error: 0.0042\n",
      "Epoch 295/400\n",
      "979/979 [==============================] - 0s 242us/step - loss: 0.0040 - mean_squared_logarithmic_error: 0.0040 - val_loss: 0.0042 - val_mean_squared_logarithmic_error: 0.0042\n",
      "Epoch 296/400\n",
      "979/979 [==============================] - 0s 241us/step - loss: 0.0041 - mean_squared_logarithmic_error: 0.0041 - val_loss: 0.0034 - val_mean_squared_logarithmic_error: 0.0034\n",
      "Epoch 297/400\n",
      "979/979 [==============================] - 0s 241us/step - loss: 0.0044 - mean_squared_logarithmic_error: 0.0044 - val_loss: 0.0038 - val_mean_squared_logarithmic_error: 0.0038\n",
      "Epoch 298/400\n",
      "979/979 [==============================] - 0s 241us/step - loss: 0.0039 - mean_squared_logarithmic_error: 0.0039 - val_loss: 0.0035 - val_mean_squared_logarithmic_error: 0.0035\n",
      "Epoch 299/400\n",
      "979/979 [==============================] - 0s 252us/step - loss: 0.0041 - mean_squared_logarithmic_error: 0.0041 - val_loss: 0.0045 - val_mean_squared_logarithmic_error: 0.0045\n",
      "Epoch 300/400\n",
      "979/979 [==============================] - 0s 267us/step - loss: 0.0040 - mean_squared_logarithmic_error: 0.0040 - val_loss: 0.0039 - val_mean_squared_logarithmic_error: 0.0039\n",
      "Epoch 301/400\n",
      "979/979 [==============================] - 0s 273us/step - loss: 0.0038 - mean_squared_logarithmic_error: 0.0038 - val_loss: 0.0034 - val_mean_squared_logarithmic_error: 0.0034\n"
     ]
    },
    {
     "name": "stdout",
     "output_type": "stream",
     "text": [
      "Epoch 302/400\n",
      "979/979 [==============================] - 0s 250us/step - loss: 0.0040 - mean_squared_logarithmic_error: 0.0040 - val_loss: 0.0035 - val_mean_squared_logarithmic_error: 0.0035\n",
      "Epoch 303/400\n",
      "979/979 [==============================] - 0s 289us/step - loss: 0.0040 - mean_squared_logarithmic_error: 0.0040 - val_loss: 0.0035 - val_mean_squared_logarithmic_error: 0.0035\n",
      "Epoch 304/400\n",
      "979/979 [==============================] - 0s 310us/step - loss: 0.0038 - mean_squared_logarithmic_error: 0.0038 - val_loss: 0.0041 - val_mean_squared_logarithmic_error: 0.0041\n",
      "Epoch 305/400\n",
      "979/979 [==============================] - 0s 320us/step - loss: 0.0040 - mean_squared_logarithmic_error: 0.0040 - val_loss: 0.0038 - val_mean_squared_logarithmic_error: 0.0038\n",
      "Epoch 306/400\n",
      "979/979 [==============================] - 0s 304us/step - loss: 0.0040 - mean_squared_logarithmic_error: 0.0040 - val_loss: 0.0043 - val_mean_squared_logarithmic_error: 0.0043\n",
      "Epoch 307/400\n",
      "979/979 [==============================] - 0s 250us/step - loss: 0.0040 - mean_squared_logarithmic_error: 0.0040 - val_loss: 0.0042 - val_mean_squared_logarithmic_error: 0.0042\n",
      "Epoch 308/400\n",
      "979/979 [==============================] - 0s 257us/step - loss: 0.0043 - mean_squared_logarithmic_error: 0.0043 - val_loss: 0.0041 - val_mean_squared_logarithmic_error: 0.0041\n",
      "Epoch 309/400\n",
      "979/979 [==============================] - 0s 286us/step - loss: 0.0040 - mean_squared_logarithmic_error: 0.0040 - val_loss: 0.0034 - val_mean_squared_logarithmic_error: 0.0034\n",
      "Epoch 310/400\n",
      "979/979 [==============================] - 0s 248us/step - loss: 0.0041 - mean_squared_logarithmic_error: 0.0041 - val_loss: 0.0034 - val_mean_squared_logarithmic_error: 0.0034\n",
      "Epoch 311/400\n",
      "979/979 [==============================] - 0s 274us/step - loss: 0.0040 - mean_squared_logarithmic_error: 0.0040 - val_loss: 0.0036 - val_mean_squared_logarithmic_error: 0.0036\n",
      "Epoch 312/400\n",
      "979/979 [==============================] - 0s 246us/step - loss: 0.0040 - mean_squared_logarithmic_error: 0.0040 - val_loss: 0.0039 - val_mean_squared_logarithmic_error: 0.0039\n",
      "Epoch 313/400\n",
      "979/979 [==============================] - 0s 251us/step - loss: 0.0040 - mean_squared_logarithmic_error: 0.0040 - val_loss: 0.0033 - val_mean_squared_logarithmic_error: 0.0033\n",
      "Epoch 314/400\n",
      "979/979 [==============================] - 0s 253us/step - loss: 0.0040 - mean_squared_logarithmic_error: 0.0040 - val_loss: 0.0033 - val_mean_squared_logarithmic_error: 0.0033\n",
      "Epoch 315/400\n",
      "979/979 [==============================] - 0s 256us/step - loss: 0.0040 - mean_squared_logarithmic_error: 0.0040 - val_loss: 0.0039 - val_mean_squared_logarithmic_error: 0.0039\n",
      "Epoch 316/400\n",
      "979/979 [==============================] - 0s 283us/step - loss: 0.0036 - mean_squared_logarithmic_error: 0.0036 - val_loss: 0.0035 - val_mean_squared_logarithmic_error: 0.0035\n",
      "Epoch 317/400\n",
      "979/979 [==============================] - 0s 226us/step - loss: 0.0040 - mean_squared_logarithmic_error: 0.0040 - val_loss: 0.0045 - val_mean_squared_logarithmic_error: 0.0045\n",
      "Epoch 318/400\n",
      "979/979 [==============================] - 0s 243us/step - loss: 0.0039 - mean_squared_logarithmic_error: 0.0039 - val_loss: 0.0033 - val_mean_squared_logarithmic_error: 0.0033\n",
      "Epoch 319/400\n",
      "979/979 [==============================] - 0s 239us/step - loss: 0.0039 - mean_squared_logarithmic_error: 0.0039 - val_loss: 0.0049 - val_mean_squared_logarithmic_error: 0.0049\n",
      "Epoch 320/400\n",
      "979/979 [==============================] - 0s 224us/step - loss: 0.0041 - mean_squared_logarithmic_error: 0.0041 - val_loss: 0.0044 - val_mean_squared_logarithmic_error: 0.0044\n",
      "Epoch 321/400\n",
      "979/979 [==============================] - 0s 221us/step - loss: 0.0039 - mean_squared_logarithmic_error: 0.0039 - val_loss: 0.0047 - val_mean_squared_logarithmic_error: 0.0047\n",
      "Epoch 322/400\n",
      "979/979 [==============================] - 0s 216us/step - loss: 0.0041 - mean_squared_logarithmic_error: 0.0041 - val_loss: 0.0035 - val_mean_squared_logarithmic_error: 0.0035\n",
      "Epoch 323/400\n",
      "979/979 [==============================] - 0s 245us/step - loss: 0.0038 - mean_squared_logarithmic_error: 0.0038 - val_loss: 0.0034 - val_mean_squared_logarithmic_error: 0.0034\n",
      "Epoch 324/400\n",
      "979/979 [==============================] - 0s 235us/step - loss: 0.0039 - mean_squared_logarithmic_error: 0.0039 - val_loss: 0.0039 - val_mean_squared_logarithmic_error: 0.0039\n",
      "Epoch 325/400\n",
      "979/979 [==============================] - 0s 240us/step - loss: 0.0038 - mean_squared_logarithmic_error: 0.0038 - val_loss: 0.0035 - val_mean_squared_logarithmic_error: 0.0035\n",
      "Epoch 326/400\n",
      "979/979 [==============================] - 0s 251us/step - loss: 0.0038 - mean_squared_logarithmic_error: 0.0038 - val_loss: 0.0039 - val_mean_squared_logarithmic_error: 0.0039\n",
      "Epoch 327/400\n",
      "979/979 [==============================] - 0s 234us/step - loss: 0.0040 - mean_squared_logarithmic_error: 0.0040 - val_loss: 0.0036 - val_mean_squared_logarithmic_error: 0.0036\n",
      "Epoch 328/400\n",
      "979/979 [==============================] - 0s 231us/step - loss: 0.0042 - mean_squared_logarithmic_error: 0.0042 - val_loss: 0.0040 - val_mean_squared_logarithmic_error: 0.0040\n",
      "Epoch 329/400\n",
      "979/979 [==============================] - 0s 219us/step - loss: 0.0041 - mean_squared_logarithmic_error: 0.0041 - val_loss: 0.0035 - val_mean_squared_logarithmic_error: 0.0035\n",
      "Epoch 330/400\n",
      "979/979 [==============================] - 0s 222us/step - loss: 0.0039 - mean_squared_logarithmic_error: 0.0039 - val_loss: 0.0036 - val_mean_squared_logarithmic_error: 0.0036\n",
      "Epoch 331/400\n",
      "979/979 [==============================] - 0s 229us/step - loss: 0.0041 - mean_squared_logarithmic_error: 0.0041 - val_loss: 0.0037 - val_mean_squared_logarithmic_error: 0.0037\n",
      "Epoch 332/400\n",
      "979/979 [==============================] - 0s 240us/step - loss: 0.0038 - mean_squared_logarithmic_error: 0.0038 - val_loss: 0.0038 - val_mean_squared_logarithmic_error: 0.0038\n",
      "Epoch 333/400\n",
      "979/979 [==============================] - 0s 244us/step - loss: 0.0040 - mean_squared_logarithmic_error: 0.0040 - val_loss: 0.0035 - val_mean_squared_logarithmic_error: 0.0035\n",
      "Epoch 334/400\n",
      "979/979 [==============================] - 0s 233us/step - loss: 0.0038 - mean_squared_logarithmic_error: 0.0038 - val_loss: 0.0034 - val_mean_squared_logarithmic_error: 0.0034\n",
      "Epoch 335/400\n",
      "979/979 [==============================] - 0s 236us/step - loss: 0.0041 - mean_squared_logarithmic_error: 0.0041 - val_loss: 0.0038 - val_mean_squared_logarithmic_error: 0.0038\n",
      "Epoch 336/400\n",
      "979/979 [==============================] - 0s 234us/step - loss: 0.0040 - mean_squared_logarithmic_error: 0.0040 - val_loss: 0.0045 - val_mean_squared_logarithmic_error: 0.0045\n",
      "Epoch 337/400\n",
      "979/979 [==============================] - 0s 216us/step - loss: 0.0040 - mean_squared_logarithmic_error: 0.0040 - val_loss: 0.0036 - val_mean_squared_logarithmic_error: 0.0036\n",
      "Epoch 338/400\n",
      "979/979 [==============================] - 0s 225us/step - loss: 0.0040 - mean_squared_logarithmic_error: 0.0040 - val_loss: 0.0035 - val_mean_squared_logarithmic_error: 0.0035\n",
      "Epoch 339/400\n",
      "979/979 [==============================] - 0s 235us/step - loss: 0.0040 - mean_squared_logarithmic_error: 0.0040 - val_loss: 0.0037 - val_mean_squared_logarithmic_error: 0.0037\n",
      "Epoch 340/400\n",
      "979/979 [==============================] - 0s 225us/step - loss: 0.0038 - mean_squared_logarithmic_error: 0.0038 - val_loss: 0.0033 - val_mean_squared_logarithmic_error: 0.0033\n",
      "Epoch 341/400\n",
      "979/979 [==============================] - 0s 236us/step - loss: 0.0042 - mean_squared_logarithmic_error: 0.0042 - val_loss: 0.0037 - val_mean_squared_logarithmic_error: 0.0037\n",
      "Epoch 342/400\n",
      "979/979 [==============================] - 0s 240us/step - loss: 0.0039 - mean_squared_logarithmic_error: 0.0039 - val_loss: 0.0033 - val_mean_squared_logarithmic_error: 0.0033\n",
      "Epoch 343/400\n",
      "979/979 [==============================] - 0s 346us/step - loss: 0.0039 - mean_squared_logarithmic_error: 0.0039 - val_loss: 0.0035 - val_mean_squared_logarithmic_error: 0.0035\n",
      "Epoch 344/400\n",
      "979/979 [==============================] - 0s 310us/step - loss: 0.0041 - mean_squared_logarithmic_error: 0.0041 - val_loss: 0.0042 - val_mean_squared_logarithmic_error: 0.0042\n"
     ]
    },
    {
     "name": "stdout",
     "output_type": "stream",
     "text": [
      "Epoch 345/400\n",
      "979/979 [==============================] - 0s 324us/step - loss: 0.0041 - mean_squared_logarithmic_error: 0.0041 - val_loss: 0.0033 - val_mean_squared_logarithmic_error: 0.0033\n",
      "Epoch 346/400\n",
      "979/979 [==============================] - 0s 267us/step - loss: 0.0041 - mean_squared_logarithmic_error: 0.0041 - val_loss: 0.0034 - val_mean_squared_logarithmic_error: 0.0034\n",
      "Epoch 347/400\n",
      "979/979 [==============================] - 0s 261us/step - loss: 0.0040 - mean_squared_logarithmic_error: 0.0040 - val_loss: 0.0036 - val_mean_squared_logarithmic_error: 0.0036\n",
      "Epoch 348/400\n",
      "979/979 [==============================] - 0s 286us/step - loss: 0.0039 - mean_squared_logarithmic_error: 0.0039 - val_loss: 0.0035 - val_mean_squared_logarithmic_error: 0.0035\n",
      "Epoch 349/400\n",
      "979/979 [==============================] - 0s 278us/step - loss: 0.0039 - mean_squared_logarithmic_error: 0.0039 - val_loss: 0.0048 - val_mean_squared_logarithmic_error: 0.0048\n",
      "Epoch 350/400\n",
      "979/979 [==============================] - 0s 239us/step - loss: 0.0039 - mean_squared_logarithmic_error: 0.0039 - val_loss: 0.0034 - val_mean_squared_logarithmic_error: 0.0034\n",
      "Epoch 351/400\n",
      "979/979 [==============================] - 0s 231us/step - loss: 0.0037 - mean_squared_logarithmic_error: 0.0037 - val_loss: 0.0034 - val_mean_squared_logarithmic_error: 0.0034\n",
      "Epoch 352/400\n",
      "979/979 [==============================] - 0s 246us/step - loss: 0.0039 - mean_squared_logarithmic_error: 0.0039 - val_loss: 0.0051 - val_mean_squared_logarithmic_error: 0.0051\n",
      "Epoch 353/400\n",
      "979/979 [==============================] - 0s 245us/step - loss: 0.0040 - mean_squared_logarithmic_error: 0.0040 - val_loss: 0.0034 - val_mean_squared_logarithmic_error: 0.0034\n",
      "Epoch 354/400\n",
      "979/979 [==============================] - 0s 245us/step - loss: 0.0038 - mean_squared_logarithmic_error: 0.0038 - val_loss: 0.0034 - val_mean_squared_logarithmic_error: 0.0034\n",
      "Epoch 355/400\n",
      "979/979 [==============================] - 0s 326us/step - loss: 0.0040 - mean_squared_logarithmic_error: 0.0040 - val_loss: 0.0034 - val_mean_squared_logarithmic_error: 0.0034\n",
      "Epoch 356/400\n",
      "979/979 [==============================] - 0s 246us/step - loss: 0.0039 - mean_squared_logarithmic_error: 0.0039 - val_loss: 0.0034 - val_mean_squared_logarithmic_error: 0.0034\n",
      "Epoch 357/400\n",
      "979/979 [==============================] - 0s 237us/step - loss: 0.0038 - mean_squared_logarithmic_error: 0.0038 - val_loss: 0.0043 - val_mean_squared_logarithmic_error: 0.0043\n",
      "Epoch 358/400\n",
      "979/979 [==============================] - 0s 252us/step - loss: 0.0038 - mean_squared_logarithmic_error: 0.0038 - val_loss: 0.0034 - val_mean_squared_logarithmic_error: 0.0034\n",
      "Epoch 359/400\n",
      "979/979 [==============================] - 0s 240us/step - loss: 0.0040 - mean_squared_logarithmic_error: 0.0040 - val_loss: 0.0035 - val_mean_squared_logarithmic_error: 0.0035\n",
      "Epoch 360/400\n",
      "979/979 [==============================] - 0s 228us/step - loss: 0.0038 - mean_squared_logarithmic_error: 0.0038 - val_loss: 0.0036 - val_mean_squared_logarithmic_error: 0.0036\n",
      "Epoch 361/400\n",
      "979/979 [==============================] - 0s 229us/step - loss: 0.0038 - mean_squared_logarithmic_error: 0.0038 - val_loss: 0.0036 - val_mean_squared_logarithmic_error: 0.0036\n",
      "Epoch 362/400\n",
      "979/979 [==============================] - 0s 231us/step - loss: 0.0040 - mean_squared_logarithmic_error: 0.0040 - val_loss: 0.0042 - val_mean_squared_logarithmic_error: 0.0042\n",
      "Epoch 363/400\n",
      "979/979 [==============================] - 0s 237us/step - loss: 0.0038 - mean_squared_logarithmic_error: 0.0038 - val_loss: 0.0034 - val_mean_squared_logarithmic_error: 0.0034\n",
      "Epoch 364/400\n",
      "979/979 [==============================] - 0s 240us/step - loss: 0.0038 - mean_squared_logarithmic_error: 0.0038 - val_loss: 0.0050 - val_mean_squared_logarithmic_error: 0.0050\n",
      "Epoch 365/400\n",
      "979/979 [==============================] - 0s 227us/step - loss: 0.0041 - mean_squared_logarithmic_error: 0.0041 - val_loss: 0.0041 - val_mean_squared_logarithmic_error: 0.0041\n",
      "Epoch 366/400\n",
      "979/979 [==============================] - 0s 235us/step - loss: 0.0037 - mean_squared_logarithmic_error: 0.0037 - val_loss: 0.0037 - val_mean_squared_logarithmic_error: 0.0037\n",
      "Epoch 367/400\n",
      "979/979 [==============================] - 0s 239us/step - loss: 0.0038 - mean_squared_logarithmic_error: 0.0038 - val_loss: 0.0052 - val_mean_squared_logarithmic_error: 0.0052\n",
      "Epoch 368/400\n",
      "979/979 [==============================] - 0s 228us/step - loss: 0.0039 - mean_squared_logarithmic_error: 0.0039 - val_loss: 0.0035 - val_mean_squared_logarithmic_error: 0.0035\n",
      "Epoch 369/400\n",
      "979/979 [==============================] - 0s 257us/step - loss: 0.0038 - mean_squared_logarithmic_error: 0.0038 - val_loss: 0.0032 - val_mean_squared_logarithmic_error: 0.0032\n",
      "Epoch 370/400\n",
      "979/979 [==============================] - 0s 349us/step - loss: 0.0039 - mean_squared_logarithmic_error: 0.0039 - val_loss: 0.0047 - val_mean_squared_logarithmic_error: 0.0047\n",
      "Epoch 371/400\n",
      "979/979 [==============================] - 0s 296us/step - loss: 0.0040 - mean_squared_logarithmic_error: 0.0040 - val_loss: 0.0034 - val_mean_squared_logarithmic_error: 0.0034\n",
      "Epoch 372/400\n",
      "979/979 [==============================] - 0s 278us/step - loss: 0.0037 - mean_squared_logarithmic_error: 0.0037 - val_loss: 0.0039 - val_mean_squared_logarithmic_error: 0.0039\n",
      "Epoch 373/400\n",
      "979/979 [==============================] - 0s 287us/step - loss: 0.0037 - mean_squared_logarithmic_error: 0.0037 - val_loss: 0.0043 - val_mean_squared_logarithmic_error: 0.0043\n",
      "Epoch 374/400\n",
      "979/979 [==============================] - 0s 262us/step - loss: 0.0039 - mean_squared_logarithmic_error: 0.0039 - val_loss: 0.0035 - val_mean_squared_logarithmic_error: 0.0035\n",
      "Epoch 375/400\n",
      "979/979 [==============================] - 0s 266us/step - loss: 0.0039 - mean_squared_logarithmic_error: 0.0039 - val_loss: 0.0033 - val_mean_squared_logarithmic_error: 0.0033\n",
      "Epoch 376/400\n",
      "979/979 [==============================] - 0s 231us/step - loss: 0.0038 - mean_squared_logarithmic_error: 0.0038 - val_loss: 0.0049 - val_mean_squared_logarithmic_error: 0.0049\n",
      "Epoch 377/400\n",
      "979/979 [==============================] - 0s 235us/step - loss: 0.0039 - mean_squared_logarithmic_error: 0.0039 - val_loss: 0.0034 - val_mean_squared_logarithmic_error: 0.0034\n",
      "Epoch 378/400\n",
      "979/979 [==============================] - 0s 231us/step - loss: 0.0040 - mean_squared_logarithmic_error: 0.0040 - val_loss: 0.0035 - val_mean_squared_logarithmic_error: 0.0035\n",
      "Epoch 379/400\n",
      "979/979 [==============================] - 0s 236us/step - loss: 0.0038 - mean_squared_logarithmic_error: 0.0038 - val_loss: 0.0035 - val_mean_squared_logarithmic_error: 0.0035\n",
      "Epoch 380/400\n",
      "979/979 [==============================] - 0s 233us/step - loss: 0.0038 - mean_squared_logarithmic_error: 0.0038 - val_loss: 0.0047 - val_mean_squared_logarithmic_error: 0.0047\n",
      "Epoch 381/400\n",
      "979/979 [==============================] - 0s 230us/step - loss: 0.0040 - mean_squared_logarithmic_error: 0.0040 - val_loss: 0.0040 - val_mean_squared_logarithmic_error: 0.0040\n",
      "Epoch 382/400\n",
      "979/979 [==============================] - 0s 232us/step - loss: 0.0039 - mean_squared_logarithmic_error: 0.0039 - val_loss: 0.0043 - val_mean_squared_logarithmic_error: 0.0043\n",
      "Epoch 383/400\n",
      "979/979 [==============================] - 0s 238us/step - loss: 0.0041 - mean_squared_logarithmic_error: 0.0041 - val_loss: 0.0053 - val_mean_squared_logarithmic_error: 0.0053\n",
      "Epoch 384/400\n",
      "979/979 [==============================] - 0s 231us/step - loss: 0.0040 - mean_squared_logarithmic_error: 0.0040 - val_loss: 0.0045 - val_mean_squared_logarithmic_error: 0.0045\n",
      "Epoch 385/400\n",
      "979/979 [==============================] - 0s 233us/step - loss: 0.0036 - mean_squared_logarithmic_error: 0.0036 - val_loss: 0.0039 - val_mean_squared_logarithmic_error: 0.0039\n",
      "Epoch 386/400\n",
      "979/979 [==============================] - 0s 241us/step - loss: 0.0040 - mean_squared_logarithmic_error: 0.0040 - val_loss: 0.0036 - val_mean_squared_logarithmic_error: 0.0036\n",
      "Epoch 387/400\n",
      "979/979 [==============================] - 0s 232us/step - loss: 0.0041 - mean_squared_logarithmic_error: 0.0041 - val_loss: 0.0038 - val_mean_squared_logarithmic_error: 0.0038\n"
     ]
    },
    {
     "name": "stdout",
     "output_type": "stream",
     "text": [
      "Epoch 388/400\n",
      "979/979 [==============================] - 0s 233us/step - loss: 0.0037 - mean_squared_logarithmic_error: 0.0037 - val_loss: 0.0038 - val_mean_squared_logarithmic_error: 0.0038\n",
      "Epoch 389/400\n",
      "979/979 [==============================] - 0s 225us/step - loss: 0.0038 - mean_squared_logarithmic_error: 0.0038 - val_loss: 0.0033 - val_mean_squared_logarithmic_error: 0.0033\n",
      "Epoch 390/400\n",
      "979/979 [==============================] - 0s 237us/step - loss: 0.0041 - mean_squared_logarithmic_error: 0.0041 - val_loss: 0.0044 - val_mean_squared_logarithmic_error: 0.0044\n",
      "Epoch 391/400\n",
      "979/979 [==============================] - 0s 225us/step - loss: 0.0038 - mean_squared_logarithmic_error: 0.0038 - val_loss: 0.0033 - val_mean_squared_logarithmic_error: 0.0033\n",
      "Epoch 392/400\n",
      "979/979 [==============================] - 0s 228us/step - loss: 0.0039 - mean_squared_logarithmic_error: 0.0039 - val_loss: 0.0032 - val_mean_squared_logarithmic_error: 0.0032\n",
      "Epoch 393/400\n",
      "979/979 [==============================] - 0s 235us/step - loss: 0.0040 - mean_squared_logarithmic_error: 0.0040 - val_loss: 0.0032 - val_mean_squared_logarithmic_error: 0.0032\n",
      "Epoch 394/400\n",
      "979/979 [==============================] - 0s 229us/step - loss: 0.0038 - mean_squared_logarithmic_error: 0.0038 - val_loss: 0.0039 - val_mean_squared_logarithmic_error: 0.0039\n",
      "Epoch 395/400\n",
      "979/979 [==============================] - 0s 240us/step - loss: 0.0039 - mean_squared_logarithmic_error: 0.0039 - val_loss: 0.0060 - val_mean_squared_logarithmic_error: 0.0060\n",
      "Epoch 396/400\n",
      "979/979 [==============================] - 0s 235us/step - loss: 0.0038 - mean_squared_logarithmic_error: 0.0038 - val_loss: 0.0036 - val_mean_squared_logarithmic_error: 0.0036\n",
      "Epoch 397/400\n",
      "979/979 [==============================] - 0s 250us/step - loss: 0.0040 - mean_squared_logarithmic_error: 0.0040 - val_loss: 0.0039 - val_mean_squared_logarithmic_error: 0.0039\n",
      "Epoch 398/400\n",
      "979/979 [==============================] - 0s 241us/step - loss: 0.0039 - mean_squared_logarithmic_error: 0.0039 - val_loss: 0.0037 - val_mean_squared_logarithmic_error: 0.0037\n",
      "Epoch 399/400\n",
      "979/979 [==============================] - 0s 233us/step - loss: 0.0037 - mean_squared_logarithmic_error: 0.0037 - val_loss: 0.0033 - val_mean_squared_logarithmic_error: 0.0033\n",
      "Epoch 400/400\n",
      "979/979 [==============================] - 0s 226us/step - loss: 0.0038 - mean_squared_logarithmic_error: 0.0038 - val_loss: 0.0034 - val_mean_squared_logarithmic_error: 0.0034\n"
     ]
    }
   ],
   "source": [
    "np.random.seed(0)\n",
    "from keras.models import Sequential\n",
    "from keras.layers import Dense, Dropout, BatchNormalization, GaussianNoise\n",
    "from keras.callbacks import TensorBoard\n",
    "from keras.optimizers import Adam\n",
    "from keras.regularizers import l2\n",
    "\n",
    "adam = Adam(lr=.0011)\n",
    "model = Sequential()\n",
    "model.add(Dense(48, input_dim=X_k.shape[1], activation='relu'))\n",
    "model.add(BatchNormalization())\n",
    "model.add(Dense(24, activation='relu'))\n",
    "model.add(Dense(12, activation='relu'))\n",
    "model.add(Dropout(0.5))\n",
    "model.add(Dense(1, activation='sigmoid'))\n",
    "\n",
    "model.compile(loss='mean_squared_logarithmic_error',\n",
    "              optimizer=adam,\n",
    "              metrics=['mean_squared_logarithmic_error']\n",
    "             )\n",
    "\n",
    "fitter = model.fit(X_k_train.values, y_k_train.values, validation_data=[X_k_test.values,\n",
    "                                                                                  y_k_test.values],\n",
    "          epochs=400,\n",
    "          batch_size=20)"
   ]
  },
  {
   "cell_type": "markdown",
   "metadata": {},
   "source": [
    "Let's plot our train and validation losses :"
   ]
  },
  {
   "cell_type": "code",
   "execution_count": 282,
   "metadata": {},
   "outputs": [
    {
     "data": {
      "text/plain": [
       "[<matplotlib.lines.Line2D at 0x1a31e20a10>]"
      ]
     },
     "execution_count": 282,
     "metadata": {},
     "output_type": "execute_result"
    },
    {
     "data": {
      "image/png": "[encoded data removed]",
      "text/plain": [
       "<matplotlib.figure.Figure at 0x1a30f4d210>"
      ]
     },
     "metadata": {},
     "output_type": "display_data"
    }
   ],
   "source": [
    "plt.plot(np.sqrt(fitter.history['loss']))\n",
    "plt.plot(np.sqrt(fitter.history['val_loss']))"
   ]
  },
  {
   "cell_type": "code",
   "execution_count": 196,
   "metadata": {
    "scrolled": true
   },
   "outputs": [
    {
     "data": {
      "text/plain": [
       "0.05871372522137134"
      ]
     },
     "execution_count": 196,
     "metadata": {},
     "output_type": "execute_result"
    }
   ],
   "source": [
    "rmsle(model.predict(X_k_test.values).reshape(-1), y_k_test)"
   ]
  },
  {
   "cell_type": "code",
   "execution_count": 197,
   "metadata": {},
   "outputs": [
    {
     "data": {
      "text/plain": [
       "[<matplotlib.lines.Line2D at 0x1a2f657990>]"
      ]
     },
     "execution_count": 197,
     "metadata": {},
     "output_type": "execute_result"
    },
    {
     "data": {
      "image/png": "[encoded data removed]",
      "text/plain": [
       "<matplotlib.figure.Figure at 0x1a3161d790>"
      ]
     },
     "metadata": {},
     "output_type": "display_data"
    }
   ],
   "source": [
    "import matplotlib.pyplot as plt\n",
    "\n",
    "plt.scatter(model.predict(X_k_test.values).reshape(-1), y_k_test)\n",
    "plt.plot(np.linspace(.25,1,len(y_k_test)), np.linspace(.25,1,len(y_k_test)))"
   ]
  },
  {
   "cell_type": "code",
   "execution_count": 198,
   "metadata": {},
   "outputs": [
    {
     "data": {
      "text/plain": [
       "<matplotlib.legend.Legend at 0x1a326cefd0>"
      ]
     },
     "execution_count": 198,
     "metadata": {},
     "output_type": "execute_result"
    },
    {
     "data": {
      "image/png": "[encoded data removed]",
      "text/plain": [
       "<matplotlib.figure.Figure at 0x1a327a1950>"
      ]
     },
     "metadata": {},
     "output_type": "display_data"
    }
   ],
   "source": [
    "plt.figure(figsize=[10,10])\n",
    "\n",
    "kdeplot(model.predict(X_k_test.values).reshape(-1), alpha=.5)\n",
    "kdeplot(y_k_test.values,alpha=.5)\n",
    "\n",
    "plt.hist(model.predict(X_k_test.values).reshape(-1), alpha=.5, normed=True,bins=50)\n",
    "plt.hist(y_k_test,alpha=.5, normed=True,bins=50)\n",
    "plt.legend([\"Y_predicted\", \"Y\"])"
   ]
  },
  {
   "cell_type": "markdown",
   "metadata": {},
   "source": [
    "Now that we have several models with comparable accuracy we can try to improve our predictions with feature engineering."
   ]
  },
  {
   "cell_type": "markdown",
   "metadata": {},
   "source": [
    "# Feature Engineering"
   ]
  },
  {
   "cell_type": "code",
   "execution_count": 222,
   "metadata": {},
   "outputs": [
    {
     "data": {
      "text/plain": [
       "Pipeline(memory=None,\n",
       "     steps=[('standardizer', StandardScaler(copy=True, with_mean=True, with_std=True)), ('polynomial_feature_creation', PolynomialFeatures(degree=2, include_bias=True, interaction_only=False)), ('gradient_boosted_tree', GradientBoostingRegressor(alpha=0.9, criterion='friedman_mse', init=None,\n",
       "           ...s=500, presort='auto', random_state=None,\n",
       "             subsample=1.0, verbose=0, warm_start=False))])"
      ]
     },
     "execution_count": 222,
     "metadata": {},
     "output_type": "execute_result"
    }
   ],
   "source": [
    "from sklearn.ensemble import GradientBoostingRegressor\n",
    "from sklearn.preprocessing import StandardScaler, PolynomialFeatures\n",
    "from sklearn.pipeline import Pipeline\n",
    "\n",
    "scaler = StandardScaler()\n",
    "pol_feature = PolynomialFeatures(2)\n",
    "\n",
    "g_reg = GradientBoostingRegressor(n_estimators=500, max_depth=5, learning_rate=.05)\n",
    "\n",
    "pipe_reg = Pipeline([(\"standardizer\", scaler),\n",
    "                     (\"polynomial_feature_creation\", pol_feature),\n",
    "                     (\"gradient_boosted_tree\",g_reg)])\n",
    "pipe_reg.fit(X_k_train, np.log(1+y_k_train))"
   ]
  },
  {
   "cell_type": "code",
   "execution_count": 223,
   "metadata": {},
   "outputs": [
    {
     "data": {
      "text/plain": [
       "0.04359965642135531"
      ]
     },
     "execution_count": 223,
     "metadata": {},
     "output_type": "execute_result"
    }
   ],
   "source": [
    "rmsle(np.exp(pipe_reg.predict(X_k_test.values))-1, y_k_test)"
   ]
  },
  {
   "cell_type": "code",
   "execution_count": 224,
   "metadata": {},
   "outputs": [
    {
     "data": {
      "text/plain": [
       "[<matplotlib.lines.Line2D at 0x1a32aaed90>]"
      ]
     },
     "execution_count": 224,
     "metadata": {},
     "output_type": "execute_result"
    },
    {
     "data": {
      "image/png": "[encoded data removed]",
      "text/plain": [
       "<matplotlib.figure.Figure at 0x1a32aaedd0>"
      ]
     },
     "metadata": {},
     "output_type": "display_data"
    }
   ],
   "source": [
    "import matplotlib.pyplot as plt\n",
    "\n",
    "plt.scatter(np.exp(pipe_reg.predict(X_k_test))-1, y_k_test)\n",
    "plt.plot(np.linspace(.25,1,len(y_k_test)), np.linspace(.25,1,len(y_k_test)))"
   ]
  },
  {
   "cell_type": "code",
   "execution_count": 218,
   "metadata": {},
   "outputs": [
    {
     "data": {
      "text/plain": [
       "<matplotlib.legend.Legend at 0x1a328d5d50>"
      ]
     },
     "execution_count": 218,
     "metadata": {},
     "output_type": "execute_result"
    },
    {
     "data": {
      "image/png": "[encoded data removed]",
      "text/plain": [
       "<matplotlib.figure.Figure at 0x1a327cd2d0>"
      ]
     },
     "metadata": {},
     "output_type": "display_data"
    }
   ],
   "source": [
    "plt.figure(figsize=[10,10])\n",
    "\n",
    "kdeplot(np.exp(pipe_reg.predict(X_k_test))-1, alpha=.5)\n",
    "kdeplot(y_k_test.values,alpha=.5)\n",
    "\n",
    "plt.hist(np.exp(pipe_reg.predict(X_k_test))-1, alpha=.5, normed=True,bins=50)\n",
    "plt.hist(y_k_test,alpha=.5, normed=True,bins=50)\n",
    "plt.legend([\"Y_predicted\", \"Y\"])"
   ]
  },
  {
   "cell_type": "markdown",
   "metadata": {},
   "source": [
    "Now that we have a good model we can monitor which features are more important :"
   ]
  },
  {
   "cell_type": "code",
   "execution_count": 292,
   "metadata": {
    "scrolled": false
   },
   "outputs": [
    {
     "data": {
      "text/plain": [
       "Text(0.5,1,u'Variable Importance')"
      ]
     },
     "execution_count": 292,
     "metadata": {},
     "output_type": "execute_result"
    },
    {
     "data": {
      "image/png": "[encoded data removed]",
      "text/plain": [
       "<matplotlib.figure.Figure at 0x1a335e7210>"
      ]
     },
     "metadata": {},
     "output_type": "display_data"
    }
   ],
   "source": [
    "feature_name = np.array(pipe_reg.steps[1][1].get_feature_names(X_k.columns))\n",
    "limit = 5\n",
    "feature_importance = np.array(pipe_reg.named_steps['gradient_boosted_tree'].feature_importances_[:15])\n",
    "feature_importance = 100.0 * (feature_importance / feature_importance.max())\n",
    "sorted_idx = np.argsort(feature_importance)\n",
    "pos = np.arange(sorted_idx.shape[0]) + .5\n",
    "plt.figure(figsize=[7,7])\n",
    "plt.subplot(1, 2, 2)\n",
    "plt.barh(pos, feature_importance[sorted_idx], align='center')\n",
    "plt.yticks(pos, feature_name[sorted_idx])\n",
    "plt.xlabel('Relative Importance')\n",
    "plt.title('Variable Importance')"
   ]
  },
  {
   "cell_type": "markdown",
   "metadata": {},
   "source": [
    "So the most useful features to predict are capacity squared, capacity \\* failure rate, production costs, capacity \\* margin and price. We do not apply feature engineering to the other models for different reasons :\n",
    "- Gaussian processes suffer from the curse of dimensionality so it might be a bad idea to add too many artificial features.\n",
    "- Neural Networks are supposed to do feature engineering \"by themselves\" so there is no need complicating features."
   ]
  },
  {
   "cell_type": "code",
   "execution_count": null,
   "metadata": {},
   "outputs": [],
   "source": []
  }
 ],
 "metadata": {
  "kernelspec": {
   "display_name": "Python 2",
   "language": "python",
   "name": "python2"
  },
  "language_info": {
   "codemirror_mode": {
    "name": "ipython",
    "version": 2
   },
   "file_extension": ".py",
   "mimetype": "text/x-python",
   "name": "python",
   "nbconvert_exporter": "python",
   "pygments_lexer": "ipython2",
   "version": "2.7.14"
  }
 },
 "nbformat": 4,
 "nbformat_minor": 2
}
